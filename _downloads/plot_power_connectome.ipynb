{
  "nbformat_minor": 0, 
  "nbformat": 4, 
  "cells": [
    {
      "execution_count": null, 
      "cell_type": "code", 
      "source": [
        "%matplotlib inline"
      ], 
      "outputs": [], 
      "metadata": {
        "collapsed": false
      }
    }, 
    {
      "source": [
        "\nExtracting signals and plotting a connectome for the Power-264 seed-region atlas\n================================================================================\n\nThis example shows how to extract signals from spherical seed-regions based\non the Power-264 atlas (Power, 2011) and estimating a connectome using sparse\ninverse covariance.\n\nPower, Jonathan D., et al. \"Functional network organization of the\nhuman brain.\" Neuron 72.4 (2011): 665-678.\n\n"
      ], 
      "cell_type": "markdown", 
      "metadata": {}
    }, 
    {
      "execution_count": null, 
      "cell_type": "code", 
      "source": [
        "import numpy as np\nimport matplotlib.pyplot as plt\nfrom nilearn import datasets, connectome, plotting, input_data"
      ], 
      "outputs": [], 
      "metadata": {
        "collapsed": false
      }
    }, 
    {
      "source": [
        "Atlas and dataset fetching\n"
      ], 
      "cell_type": "markdown", 
      "metadata": {}
    }, 
    {
      "execution_count": null, 
      "cell_type": "code", 
      "source": [
        "# Fetch the coordinates of power atlas\npower = datasets.fetch_coords_power_2011()\npower_coords = np.vstack((\n    power.rois['x'],\n    power.rois['y'],\n    power.rois['z'],\n)).T\n\n# Fetch the first subject of ADHD dataset\nadhd = datasets.fetch_adhd(n_subjects=1)"
      ], 
      "outputs": [], 
      "metadata": {
        "collapsed": false
      }
    }, 
    {
      "source": [
        "Masking: taking the signal in a sphere of radius 5mm around Power coords\n"
      ], 
      "cell_type": "markdown", 
      "metadata": {}
    }, 
    {
      "execution_count": null, 
      "cell_type": "code", 
      "source": [
        "masker = input_data.NiftiSpheresMasker(seeds=power_coords,\n                                       smoothing_fwhm=4,\n                                       radius=5.,\n                                       standardize=True,\n                                       detrend=True,\n                                       low_pass=0.1,\n                                       high_pass=0.01,\n                                       t_r=2.5)\n\ntimeseries = masker.fit_transform(adhd.func[0], confounds=adhd.confounds[0])"
      ], 
      "outputs": [], 
      "metadata": {
        "collapsed": false
      }
    }, 
    {
      "source": [
        "Extract and plot correlation matrix\n"
      ], 
      "cell_type": "markdown", 
      "metadata": {}
    }, 
    {
      "execution_count": null, 
      "cell_type": "code", 
      "source": [
        "# calculate connectivity and plot Power-264 correlation matrix\nconnectivity = connectome.ConnectivityMeasure(kind='correlation')\ncorr_matrix = connectivity.fit_transform([timeseries])[0]\nnp.fill_diagonal(corr_matrix, 0)\nplt.imshow(corr_matrix, vmin=-1., vmax=1., cmap='RdBu_r')\nplt.colorbar()\nplt.title('Power 264 Connectivity')\n\n# Plot the connectome\n\nplotting.plot_connectome(corr_matrix,\n                         power_coords,\n                         edge_threshold='99.8%',\n                         node_size=20)"
      ], 
      "outputs": [], 
      "metadata": {
        "collapsed": false
      }
    }, 
    {
      "source": [
        "Extract and plot covariance and sparse covariance\n"
      ], 
      "cell_type": "markdown", 
      "metadata": {}
    }, 
    {
      "execution_count": null, 
      "cell_type": "code", 
      "source": [
        "# Compute the sparse inverse covariance\nfrom sklearn.covariance import GraphLassoCV\n\nestimator = GraphLassoCV()\nestimator.fit(timeseries)\n\n# Display the covariance\nplt.figure(figsize=(5, 5))\nplt.imshow(estimator.covariance_, interpolation=\"nearest\",\n           vmax=1, vmin=-1, cmap=plt.cm.RdBu_r)\nplt.title('Covariance matrix')\n\n# display the corresponding graph\nplotting.plot_connectome(estimator.covariance_,\n                         power_coords,\n                         title='Covariance connectome',\n                         edge_threshold='99.8%',\n                         node_size=20)\n\n# Display the sparse inverse covariance\nplt.figure(figsize=(5, 5))\nplt.imshow(estimator.precision_, interpolation=\"nearest\",\n           vmax=1, vmin=-1, cmap=plt.cm.RdBu_r)\nplt.title('Precision matrix')\n\n# And now display the corresponding graph\nplotting.plot_connectome(estimator.precision_, power_coords,\n                         title='Precision connectome',\n                         edge_threshold=\"99.8%\",\n                         node_size=20)\nplotting.show()"
      ], 
      "outputs": [], 
      "metadata": {
        "collapsed": false
      }
    }
  ], 
  "metadata": {
    "kernelspec": {
      "display_name": "Python 2", 
      "name": "python2", 
      "language": "python"
    }, 
    "language_info": {
      "mimetype": "text/x-python", 
      "nbconvert_exporter": "python", 
      "name": "python", 
      "file_extension": ".py", 
      "version": "2.7.10", 
      "pygments_lexer": "ipython2", 
      "codemirror_mode": {
        "version": 2, 
        "name": "ipython"
      }
    }
  }
}