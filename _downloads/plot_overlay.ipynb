{
  "nbformat_minor": 0, 
  "nbformat": 4, 
  "cells": [
    {
      "execution_count": null, 
      "cell_type": "code", 
      "source": [
        "%matplotlib inline"
      ], 
      "outputs": [], 
      "metadata": {
        "collapsed": false
      }
    }, 
    {
      "source": [
        "\nVisualizing a probablistic atlas: the default mode in the MSDL atlas\n=====================================================================\n\nVisualizing a probablistic atlas requires visualizing the different\nmaps that compose it.\n\nHere we represent the nodes constituting the default mode network in the\n`MSDL atlas\n<https://team.inria.fr/parietal/research/spatial_patterns/spatial-patterns-in-resting-state/>`_.\n\nThe tools that we need to leverage are:\n\n * :func:`nilearn.image.index_img` to retrieve the various maps composing\n   the atlas\n\n * Adding overlays on an existing brain display, to plot each of these\n   maps\n\n"
      ], 
      "cell_type": "markdown", 
      "metadata": {}
    }, 
    {
      "execution_count": null, 
      "cell_type": "code", 
      "source": [
        "from nilearn import datasets, plotting, image\n\natlas_data = datasets.fetch_atlas_msdl()\natlas_filename = atlas_data.maps\n\n# First plot the map for the PCC: index 4 in the atlas\ndisplay = plotting.plot_stat_map(image.index_img(atlas_filename, 4),\n                                 colorbar=False,\n                                 title=\"DMN nodes in MSDL atlas\")\n\n# Now add as an overlay the maps for the ACC and the left and right\n# parietal nodes\ndisplay.add_overlay(image.index_img(atlas_filename, 5),\n                    cmap=plotting.cm.black_blue)\ndisplay.add_overlay(image.index_img(atlas_filename, 6),\n                    cmap=plotting.cm.black_green)\ndisplay.add_overlay(image.index_img(atlas_filename, 3),\n                    cmap=plotting.cm.black_pink)\n\nplotting.show()"
      ], 
      "outputs": [], 
      "metadata": {
        "collapsed": false
      }
    }
  ], 
  "metadata": {
    "kernelspec": {
      "display_name": "Python 2", 
      "name": "python2", 
      "language": "python"
    }, 
    "language_info": {
      "mimetype": "text/x-python", 
      "nbconvert_exporter": "python", 
      "name": "python", 
      "file_extension": ".py", 
      "version": "2.7.10", 
      "pygments_lexer": "ipython2", 
      "codemirror_mode": {
        "version": 2, 
        "name": "ipython"
      }
    }
  }
}