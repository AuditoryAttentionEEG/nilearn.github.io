{
  "nbformat_minor": 0, 
  "nbformat": 4, 
  "cells": [
    {
      "execution_count": null, 
      "cell_type": "code", 
      "source": [
        "%matplotlib inline"
      ], 
      "outputs": [], 
      "metadata": {
        "collapsed": false
      }
    }, 
    {
      "source": [
        "\nExtract signals and plot a connectome for seed-based atlases\n============================================================\n\nThis example shows how to extract signals from spherical seed-based\natlases such as Power-264 atlas (Power, 2011) and Dosenbach-160 (Dosenbach,\n2010). We estimate connectome using sparse inverse covariance.\n\nDosenbach N.U., Nardos B., et al. \"Prediction of individual brain maturity\nusing fMRI.\", 2010, Science 329, 1358-1361.\n\nPower, Jonathan D., et al. \"Functional network organization of the\nhuman brain.\" Neuron 72.4 (2011): 665-678.\n"
      ], 
      "cell_type": "markdown", 
      "metadata": {}
    }, 
    {
      "execution_count": null, 
      "cell_type": "code", 
      "source": [
        "import numpy as np\nimport matplotlib.pyplot as plt\nfrom nilearn import datasets, connectome, plotting, input_data"
      ], 
      "outputs": [], 
      "metadata": {
        "collapsed": false
      }
    }, 
    {
      "source": [
        "Atlas and dataset fetching\n"
      ], 
      "cell_type": "markdown", 
      "metadata": {}
    }, 
    {
      "execution_count": null, 
      "cell_type": "code", 
      "source": [
        "# Fetch the coordinates of power atlas\npower = datasets.fetch_coords_power_2011()\npower_coords = np.vstack((\n    power.rois['x'],\n    power.rois['y'],\n    power.rois['z'],\n)).T\n\ndosenbach = datasets.fetch_coords_dosenbach_2010()\ndosenbach_coords = np.vstack((\n    dosenbach.rois['x'],\n    dosenbach.rois['y'],\n    dosenbach.rois['z'],\n)).T\n\n# Fetch the first subject of ADHD dataset\nadhd = datasets.fetch_adhd(n_subjects=1)"
      ], 
      "outputs": [], 
      "metadata": {
        "collapsed": false
      }
    }, 
    {
      "source": [
        "Masking: taking the signal in a sphere of radius 5 around Power coords\n"
      ], 
      "cell_type": "markdown", 
      "metadata": {}
    }, 
    {
      "execution_count": null, 
      "cell_type": "code", 
      "source": [
        "power_masker = input_data.NiftiSpheresMasker(\n    seeds=power_coords, smoothing_fwhm=4, radius=5.,\n    standardize=True, detrend=True,\n    low_pass=0.1, high_pass=0.01, t_r=2.5)\n\ndosenbach_masker = input_data.NiftiSpheresMasker(\n    seeds=dosenbach_coords, smoothing_fwhm=4, radius=4.,\n    standardize=True, detrend=True,\n    low_pass=0.1, high_pass=0.01, t_r=2.5)\n\npower_timeseries = power_masker.fit_transform(\n    adhd.func[0], confounds=adhd.confounds[0])\n\ndosenbach_timeseries = dosenbach_masker.fit_transform(\n    adhd.func[0], confounds=adhd.confounds[0])"
      ], 
      "outputs": [], 
      "metadata": {
        "collapsed": false
      }
    }, 
    {
      "source": [
        "Extract and plot correlation matrix\n"
      ], 
      "cell_type": "markdown", 
      "metadata": {}
    }, 
    {
      "execution_count": null, 
      "cell_type": "code", 
      "source": [
        "for atlas in ['Power', 'Dosenbach']:\n\n    if atlas == 'Power':\n        timeseries = power_timeseries\n        coords = power_coords\n    else:\n        timeseries = dosenbach_timeseries\n        coords = dosenbach_coords\n\n    connectivity = connectome.ConnectivityMeasure(kind='correlation')\n    corr_matrix = connectivity.fit_transform([timeseries])[0]\n    np.fill_diagonal(corr_matrix, 0)\n\n    plt.figure()\n    vmax = np.max(np.abs(corr_matrix))\n    plt.imshow(corr_matrix, vmin=-vmax, vmax=vmax, cmap='RdBu_r',\n               interpolation='nearest')\n    plt.colorbar()\n    plt.title(atlas + 'correlation matrix')\n\n    # Plot the connectome\n    plotting.plot_connectome(corr_matrix, coords,\n                             edge_threshold='99.8%', node_size=20,\n                             title=atlas + 'correlation connectome')\n\nplotting.show()"
      ], 
      "outputs": [], 
      "metadata": {
        "collapsed": false
      }
    }
  ], 
  "metadata": {
    "kernelspec": {
      "display_name": "Python 2", 
      "name": "python2", 
      "language": "python"
    }, 
    "language_info": {
      "mimetype": "text/x-python", 
      "nbconvert_exporter": "python", 
      "name": "python", 
      "file_extension": ".py", 
      "version": "2.7.10", 
      "pygments_lexer": "ipython2", 
      "codemirror_mode": {
        "version": 2, 
        "name": "ipython"
      }
    }
  }
}