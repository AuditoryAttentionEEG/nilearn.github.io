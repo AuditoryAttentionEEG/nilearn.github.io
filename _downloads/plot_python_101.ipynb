{
  "metadata": {
    "kernelspec": {
      "language": "python",
      "name": "python3",
      "display_name": "Python 3"
    },
    "language_info": {
      "codemirror_mode": {
        "version": 3,
        "name": "ipython"
      },
      "pygments_lexer": "ipython3",
      "mimetype": "text/x-python",
      "name": "python",
      "version": "3.5.6",
      "file_extension": ".py",
      "nbconvert_exporter": "python"
    }
  },
  "nbformat": 4,
  "nbformat_minor": 0,
  "cells": [
    {
      "metadata": {
        "collapsed": false
      },
      "source": [
        "%matplotlib inline"
      ],
      "outputs": [],
      "execution_count": null,
      "cell_type": "code"
    },
    {
      "metadata": {},
      "source": [
        "\nBasic numerics and plotting with Python\n========================================\n\nA simple example of basic Python numerics and how to\nplot it.\n\n"
      ],
      "cell_type": "markdown"
    },
    {
      "metadata": {
        "collapsed": false
      },
      "source": [
        "# import numpy: the module providing numerical arrays\nimport numpy as np\nt = np.linspace(1, 10, 2000)\n\n# import matplotlib.pyplot: the module for scientific plotting\nimport matplotlib.pyplot as plt\nplt.plot(t, np.cos(t))"
      ],
      "outputs": [],
      "execution_count": null,
      "cell_type": "code"
    }
  ]
}