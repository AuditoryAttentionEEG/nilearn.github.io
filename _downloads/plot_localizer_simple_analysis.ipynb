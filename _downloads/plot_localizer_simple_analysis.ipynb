{
  "metadata": {
    "kernelspec": {
      "language": "python",
      "name": "python3",
      "display_name": "Python 3"
    },
    "language_info": {
      "codemirror_mode": {
        "version": 3,
        "name": "ipython"
      },
      "pygments_lexer": "ipython3",
      "mimetype": "text/x-python",
      "name": "python",
      "version": "3.5.6",
      "file_extension": ".py",
      "nbconvert_exporter": "python"
    }
  },
  "nbformat": 4,
  "nbformat_minor": 0,
  "cells": [
    {
      "metadata": {
        "collapsed": false
      },
      "source": [
        "%matplotlib inline"
      ],
      "outputs": [],
      "execution_count": null,
      "cell_type": "code"
    },
    {
      "metadata": {},
      "source": [
        "\nMassively univariate analysis of a calculation task from the Localizer dataset\n==============================================================================\n\nThis example shows how to use the Localizer dataset in a basic analysis.\nA standard Anova is performed (massively univariate F-test) and the resulting\nBonferroni-corrected p-values are plotted.\nWe use a calculation task and 20 subjects out of the 94 available.\n\nThe Localizer dataset contains many contrasts and subject-related\nvariates.  The user can refer to the\n`plot_localizer_mass_univariate_methods.py` example to see how to use these.\n\n\n\n"
      ],
      "cell_type": "markdown"
    },
    {
      "metadata": {
        "collapsed": false
      },
      "source": [
        "# Author: Virgile Fritsch, <virgile.fritsch@inria.fr>, May. 2014\nimport numpy as np\nimport matplotlib.pyplot as plt\nfrom nilearn import datasets\nfrom nilearn.input_data import NiftiMasker"
      ],
      "outputs": [],
      "execution_count": null,
      "cell_type": "code"
    },
    {
      "metadata": {},
      "source": [
        "Load Localizer contrast\n\n"
      ],
      "cell_type": "markdown"
    },
    {
      "metadata": {
        "collapsed": false
      },
      "source": [
        "n_samples = 20\nlocalizer_dataset = datasets.fetch_localizer_calculation_task(\n    n_subjects=n_samples)\ntested_var = np.ones((n_samples, 1))"
      ],
      "outputs": [],
      "execution_count": null,
      "cell_type": "code"
    },
    {
      "metadata": {},
      "source": [
        "Mask data\n\n"
      ],
      "cell_type": "markdown"
    },
    {
      "metadata": {
        "collapsed": false
      },
      "source": [
        "nifti_masker = NiftiMasker(\n    smoothing_fwhm=5,\n    memory='nilearn_cache', memory_level=1)  # cache options\ncmap_filenames = localizer_dataset.cmaps\nfmri_masked = nifti_masker.fit_transform(cmap_filenames)"
      ],
      "outputs": [],
      "execution_count": null,
      "cell_type": "code"
    },
    {
      "metadata": {},
      "source": [
        "Anova (parametric F-scores)\n\n"
      ],
      "cell_type": "markdown"
    },
    {
      "metadata": {
        "collapsed": false
      },
      "source": [
        "from sklearn.feature_selection import f_regression\n_, pvals_anova = f_regression(fmri_masked, tested_var,\n                              center=False)  # do not remove intercept\npvals_anova *= fmri_masked.shape[1]\npvals_anova[np.isnan(pvals_anova)] = 1\npvals_anova[pvals_anova > 1] = 1\nneg_log_pvals_anova = - np.log10(pvals_anova)\nneg_log_pvals_anova_unmasked = nifti_masker.inverse_transform(\n    neg_log_pvals_anova)"
      ],
      "outputs": [],
      "execution_count": null,
      "cell_type": "code"
    },
    {
      "metadata": {},
      "source": [
        "Visualization\n\n"
      ],
      "cell_type": "markdown"
    },
    {
      "metadata": {
        "collapsed": false
      },
      "source": [
        "from nilearn.plotting import plot_stat_map, show\n\n# Various plotting parameters\nz_slice = 45  # plotted slice\n\nthreshold = - np.log10(0.1)  # 10% corrected\n\n# Plot Anova p-values\nfig = plt.figure(figsize=(5, 6), facecolor='w')\ndisplay = plot_stat_map(neg_log_pvals_anova_unmasked,\n                        threshold=threshold,\n                        display_mode='z', cut_coords=[z_slice],\n                        figure=fig)\n\nmasked_pvals = np.ma.masked_less(neg_log_pvals_anova_unmasked.get_data(),\n                                 threshold)\n\ntitle = ('Negative $\\log_{10}$ p-values'\n         '\\n(Parametric + Bonferroni correction)'\n         '\\n%d detections' % (~masked_pvals.mask).sum())\n\ndisplay.title(title, y=1.1, alpha=0.8)\n\nshow()"
      ],
      "outputs": [],
      "execution_count": null,
      "cell_type": "code"
    }
  ]
}