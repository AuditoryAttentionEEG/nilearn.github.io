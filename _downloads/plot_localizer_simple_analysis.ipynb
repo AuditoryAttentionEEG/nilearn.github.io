{
  "nbformat_minor": 0, 
  "nbformat": 4, 
  "cells": [
    {
      "execution_count": null, 
      "cell_type": "code", 
      "source": [
        "%matplotlib inline"
      ], 
      "outputs": [], 
      "metadata": {
        "collapsed": false
      }
    }, 
    {
      "source": [
        "\nMassively univariate analysis of a calculation task from the Localizer dataset\n==============================================================================\n\nThis example shows how to use the Localizer dataset in a basic analysis.\nA standard Anova is performed (massively univariate F-test) and the resulting\nBonferroni-corrected p-values are plotted.\nWe use a calculation task and 20 subjects out of the 94 available.\n\nThe Localizer dataset contains many contrasts and subject-related\nvariates.  The user can refer to the\n`plot_localizer_mass_univariate_methods.py` example to see how to use these.\n\n\n"
      ], 
      "cell_type": "markdown", 
      "metadata": {}
    }, 
    {
      "execution_count": null, 
      "cell_type": "code", 
      "source": [
        "# Author: Virgile Fritsch, <virgile.fritsch@inria.fr>, May. 2014\nimport numpy as np\nfrom scipy import linalg\nimport matplotlib.pyplot as plt\nfrom nilearn import datasets\nfrom nilearn.input_data import NiftiMasker\n\n### Load Localizer contrast ###################################################\nn_samples = 20\nlocalizer_dataset = datasets.fetch_localizer_calculation_task(\n    n_subjects=n_samples)\ntested_var = np.ones((n_samples, 1))\n\n### Mask data #################################################################\nnifti_masker = NiftiMasker(\n    smoothing_fwhm=5,\n    memory='nilearn_cache', memory_level=1)  # cache options\ncmap_filenames = localizer_dataset.cmaps\nfmri_masked = nifti_masker.fit_transform(cmap_filenames)\n\n### Anova (parametric F-scores) ###############################################\nfrom nilearn._utils.fixes import f_regression\n_, pvals_anova = f_regression(fmri_masked, tested_var,\n                              center=False)  # do not remove intercept\npvals_anova *= fmri_masked.shape[1]\npvals_anova[np.isnan(pvals_anova)] = 1\npvals_anova[pvals_anova > 1] = 1\nneg_log_pvals_anova = - np.log10(pvals_anova)\nneg_log_pvals_anova_unmasked = nifti_masker.inverse_transform(\n    neg_log_pvals_anova)\n\n### Visualization #############################################################\nfrom nilearn.plotting import plot_stat_map, show\n\n# Various plotting parameters\nz_slice = 45  # plotted slice\nfrom nilearn.image.resampling import coord_transform\naffine = neg_log_pvals_anova_unmasked.get_affine()\n_, _, k_slice = coord_transform(0, 0, z_slice,\n                                linalg.inv(affine))\n\nk_slice = np.round(k_slice)\nthreshold = - np.log10(0.1)  # 10% corrected\n\n# Plot Anova p-values\nfig = plt.figure(figsize=(5, 6), facecolor='w')\ndisplay = plot_stat_map(neg_log_pvals_anova_unmasked,\n                        threshold=threshold,\n                        display_mode='z', cut_coords=[z_slice],\n                        figure=fig)\n\nmasked_pvals = np.ma.masked_less(neg_log_pvals_anova_unmasked.get_data(),\n                                 threshold)\n\ntitle = ('Negative $\\log_{10}$ p-values'\n         '\\n(Parametric + Bonferroni correction)'\n         '\\n%d detections' % (~masked_pvals.mask[..., k_slice]).sum())\n\ndisplay.title(title, y=1.1, alpha=0.8)\n\nshow()"
      ], 
      "outputs": [], 
      "metadata": {
        "collapsed": false
      }
    }
  ], 
  "metadata": {
    "kernelspec": {
      "display_name": "Python 2", 
      "name": "python2", 
      "language": "python"
    }, 
    "language_info": {
      "mimetype": "text/x-python", 
      "nbconvert_exporter": "python", 
      "name": "python", 
      "file_extension": ".py", 
      "version": "2.7.6", 
      "pygments_lexer": "ipython2", 
      "codemirror_mode": {
        "version": 2, 
        "name": "ipython"
      }
    }
  }
}