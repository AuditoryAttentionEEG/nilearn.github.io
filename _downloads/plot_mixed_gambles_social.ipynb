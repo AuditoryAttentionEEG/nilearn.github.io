{
  "nbformat_minor": 0, 
  "nbformat": 4, 
  "cells": [
    {
      "execution_count": null, 
      "cell_type": "code", 
      "source": [
        "%matplotlib inline"
      ], 
      "outputs": [], 
      "metadata": {
        "collapsed": false
      }
    }, 
    {
      "source": [
        "\nSpaceNet on Jimura et al \"mixed gambles\" dataset.\n==================================================\n\nThe segmenting power of SpaceNet is quite visible here.\n\nSee also the SpaceNet documentation: :ref:`space_net`.\n"
      ], 
      "cell_type": "markdown", 
      "metadata": {}
    }, 
    {
      "execution_count": null, 
      "cell_type": "code", 
      "source": [
        "# author: DOHMATOB Elvis Dopgima,\n#         GRAMFORT Alexandre"
      ], 
      "outputs": [], 
      "metadata": {
        "collapsed": false
      }
    }, 
    {
      "source": [
        "Load the data from the Jimura mixed-gamble experiment\n"
      ], 
      "cell_type": "markdown", 
      "metadata": {}
    }, 
    {
      "execution_count": null, 
      "cell_type": "code", 
      "source": [
        "from nilearn.datasets import fetch_mixed_gambles\ndata = fetch_mixed_gambles(n_subjects=16)\n\nzmap_filenames = data.zmaps\nbehavioral_target = data.gain\nmask_filename = data.mask_img\n\n\nfrom nilearn.plotting import plot_stat_map, show\nfrom nilearn.decoding import SpaceNetRegressor\nimport time\n\nfor penalty in ('tv-l1', 'graph-net', 'social'):\n    decoder = SpaceNetRegressor(mask=mask_filename, penalty=penalty,\n                                eps=1e-1, verbose=10,\n                                memory=\"nilearn_cache\")\n\n    t0 = time.time()\n    decoder.fit(zmap_filenames, behavioral_target)\n    elapsed = time.time() - t0\n    title = \"%s; time: %.1fs\" % (penalty, elapsed)\n\n    # Visualize weights\n    display = plot_stat_map(decoder.coef_img_, title=title,\n                            display_mode=\"yz\", cut_coords=[20, -2])\n    display.savefig('poldrack_%s.png' % penalty)\n\nshow"
      ], 
      "outputs": [], 
      "metadata": {
        "collapsed": false
      }
    }
  ], 
  "metadata": {
    "kernelspec": {
      "display_name": "Python 2", 
      "name": "python2", 
      "language": "python"
    }, 
    "language_info": {
      "mimetype": "text/x-python", 
      "nbconvert_exporter": "python", 
      "name": "python", 
      "file_extension": ".py", 
      "version": "2.7.10", 
      "pygments_lexer": "ipython2", 
      "codemirror_mode": {
        "version": 2, 
        "name": "ipython"
      }
    }
  }
}