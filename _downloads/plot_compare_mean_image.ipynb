{
  "metadata": {
    "kernelspec": {
      "language": "python",
      "name": "python3",
      "display_name": "Python 3"
    },
    "language_info": {
      "codemirror_mode": {
        "version": 3,
        "name": "ipython"
      },
      "pygments_lexer": "ipython3",
      "mimetype": "text/x-python",
      "name": "python",
      "version": "3.5.6",
      "file_extension": ".py",
      "nbconvert_exporter": "python"
    }
  },
  "nbformat": 4,
  "nbformat_minor": 0,
  "cells": [
    {
      "metadata": {
        "collapsed": false
      },
      "source": [
        "%matplotlib inline"
      ],
      "outputs": [],
      "execution_count": null,
      "cell_type": "code"
    },
    {
      "metadata": {},
      "source": [
        "\nComparing the means of 2 images\n===============================\n\nThe goal of this example is to illustrate the use of the function\n:func:`nilearn.image.math_img` with a list of images as input.\nWe compare the means of 2 resting state 4D images. The mean of the images\ncould have been computed with nilearn :func:`nilearn.image.mean_img` function.\n\n"
      ],
      "cell_type": "markdown"
    },
    {
      "metadata": {},
      "source": [
        "Fetching 2 subject resting state functionnal MRI from datasets.\n\n"
      ],
      "cell_type": "markdown"
    },
    {
      "metadata": {
        "collapsed": false
      },
      "source": [
        "from nilearn import datasets\ndataset = datasets.fetch_adhd(n_subjects=2)"
      ],
      "outputs": [],
      "execution_count": null,
      "cell_type": "code"
    },
    {
      "metadata": {},
      "source": [
        "Print basic information on the adhd subjects resting state datasets.\n\n"
      ],
      "cell_type": "markdown"
    },
    {
      "metadata": {
        "collapsed": false
      },
      "source": [
        "print('Subject 1 resting state dataset at: %s' % dataset.func[0])\nprint('Subject 2 resting state dataset at: %s' % dataset.func[1])"
      ],
      "outputs": [],
      "execution_count": null,
      "cell_type": "code"
    },
    {
      "metadata": {},
      "source": [
        "Comparing the means of the 2 resting state datasets.\n\n"
      ],
      "cell_type": "markdown"
    },
    {
      "metadata": {
        "collapsed": false
      },
      "source": [
        "from nilearn import plotting, image\n\nresult_img = image.math_img(\"np.mean(img1, axis=-1) - np.mean(img2, axis=-1)\",\n                            img1=dataset.func[0],\n                            img2=dataset.func[1])\n\nplotting.plot_stat_map(result_img,\n                       title=\"Comparing means of 2 resting state 4D images.\")\nplotting.show()"
      ],
      "outputs": [],
      "execution_count": null,
      "cell_type": "code"
    }
  ]
}