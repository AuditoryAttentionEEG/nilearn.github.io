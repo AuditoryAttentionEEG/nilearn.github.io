{
  "metadata": {
    "kernelspec": {
      "language": "python",
      "name": "python3",
      "display_name": "Python 3"
    },
    "language_info": {
      "codemirror_mode": {
        "version": 3,
        "name": "ipython"
      },
      "pygments_lexer": "ipython3",
      "mimetype": "text/x-python",
      "name": "python",
      "version": "3.5.6",
      "file_extension": ".py",
      "nbconvert_exporter": "python"
    }
  },
  "nbformat": 4,
  "nbformat_minor": 0,
  "cells": [
    {
      "metadata": {
        "collapsed": false
      },
      "source": [
        "%matplotlib inline"
      ],
      "outputs": [],
      "execution_count": null,
      "cell_type": "code"
    },
    {
      "metadata": {},
      "source": [
        "\nSmoothing an image\n===================\n\nHere we smooth a mean EPI image and plot the result\n\nAs we vary the smoothing FWHM, note how we decrease the amount of noise,\nbut also loose spatial details. In general, the best amount of smoothing\nfor a given analysis depends on the spatial extent of the effects that\nare expected.\n\n\n"
      ],
      "cell_type": "markdown"
    },
    {
      "metadata": {
        "collapsed": false
      },
      "source": [
        "from nilearn import datasets, plotting, image\n\ndata = datasets.fetch_adhd(n_subjects=1)\n\n# Print basic information on the dataset\nprint('First subject functional nifti image (4D) are located at: %s' %\n      data.func[0])\n\nfirst_epi_file = data.func[0]\n\n# First the compute the mean image, from the 4D series of image\nmean_func = image.mean_img(first_epi_file)\n\n# Then we smooth, with a varying amount of smoothing, from none to 20mm\n# by increments of 5mm\nfor smoothing in range(0, 25, 5):\n    smoothed_img = image.smooth_img(mean_func, smoothing)\n    plotting.plot_epi(smoothed_img,\n                      title=\"Smoothing %imm\" % smoothing)\n\n\nplotting.show()"
      ],
      "outputs": [],
      "execution_count": null,
      "cell_type": "code"
    }
  ]
}