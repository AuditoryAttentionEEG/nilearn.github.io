{
 "cells": [
  {
   "cell_type": "code",
   "execution_count": 1,
   "metadata": {
    "collapsed": false
   },
   "outputs": [],
   "source": [
    "%matplotlib inline"
   ]
  },
  {
   "cell_type": "markdown",
   "metadata": {},
   "source": [
    "\n",
    "Decoding with SpaceNet: face vs house object recognition\n",
    "=========================================================\n",
    "\n",
    "Here is a simple example of decoding with a SpaceNet prior (i.e Graph-Net,\n",
    "TV-l1, etc.), reproducing the Haxby 2001 study on a face vs house\n",
    "discrimination task.\n",
    "\n",
    "See also the SpaceNet documentation: `space_net`.\n",
    "\n"
   ]
  },
  {
   "cell_type": "markdown",
   "metadata": {},
   "source": [
    "Load the Haxby dataset\n",
    "------------------------\n",
    "\n"
   ]
  },
  {
   "cell_type": "code",
   "execution_count": 2,
   "metadata": {
    "collapsed": false
   },
   "outputs": [],
   "source": [
    "from nilearn.datasets import fetch_haxby\n",
    "data_files = fetch_haxby()\n",
    "\n",
    "# Load behavioral data\n",
    "import pandas as pd\n",
    "behavioral = pd.read_csv(data_files.session_target[0], sep=\" \")\n",
    "\n",
    "# Restrict to face and house conditions\n",
    "conditions = behavioral['labels']\n",
    "condition_mask = conditions.isin(['face', 'house'])\n",
    "\n",
    "# Split data into train and test samples, using the chunks\n",
    "condition_mask_train = (condition_mask) & (behavioral['chunks'] <= 6)\n",
    "condition_mask_test = (condition_mask) & (behavioral['chunks'] > 6)\n",
    "\n",
    "# Apply this sample mask to X (fMRI data) and y (behavioral labels)\n",
    "# Because the data is in one single large 4D image, we need to use\n",
    "# index_img to do the split easily\n",
    "from nilearn.image import index_img\n",
    "func_filenames = data_files.func[0]\n",
    "X_train = index_img(func_filenames, condition_mask_train)\n",
    "X_test = index_img(func_filenames, condition_mask_test)\n",
    "y_train = conditions[condition_mask_train]\n",
    "y_test = conditions[condition_mask_test]\n",
    "\n",
    "# Compute the mean epi to be used for the background of the plotting\n",
    "from nilearn.image import mean_img\n",
    "background_img = mean_img(func_filenames)"
   ]
  },
  {
   "cell_type": "markdown",
   "metadata": {},
   "source": [
    "Fit SpaceNet with a Graph-Net penalty\n",
    "--------------------------------------\n",
    "\n"
   ]
  },
  {
   "cell_type": "code",
   "execution_count": 3,
   "metadata": {
    "collapsed": false
   },
   "outputs": [
    {
     "name": "stdout",
     "output_type": "stream",
     "text": [
      "[NiftiMasker.fit] Loading data from Nifti1Image(\n",
      "shape=(40, 64, 64, 126),\n",
      "affine=array([[  -3.5  ,    0.   ,    0.   ,   68.25 ],\n",
      "       [   0.   ,    3.75 ,    0.   , -118.125],\n",
      "       [   0.   ,    0.   ,    3.75 , -118.125],\n",
      "       [\n",
      "[NiftiMasker.fit] Computing the mask\n"
     ]
    },
    {
     "name": "stderr",
     "output_type": "stream",
     "text": [
      "/home/varoquau/dev/nilearn/nilearn/_utils/cache_mixin.py:291: UserWarning: memory_level is currently set to 0 but a Memory object has been provided. Setting memory_level to 1.\n",
      "  warnings.warn(\"memory_level is currently set to 0 but \"\n",
      "/home/varoquau/dev/nilearn/nilearn/_utils/cache_mixin.py:118: UserWarning: Incompatible cache in nilearn_cache/joblib: different version of nibabel. Deleting the cache. Put nilearn.CHECK_CACHE_VERSION to false to avoid this behavior.\n",
      "  % cachedir)\n"
     ]
    },
    {
     "name": "stdout",
     "output_type": "stream",
     "text": [
      "[NiftiMasker.fit] Resampling mask\n",
      "[NiftiMasker.transform_single_imgs] Loading data from Nifti1Image(\n",
      "shape=(40, 64, 64, 126),\n",
      "affine=array([[  -3.5  ,    0.   ,    0.   ,   68.25 ],\n",
      "       [   0.   ,    3.75 ,    0.   , -118.125],\n",
      "       [   0.   ,    0.   ,    3.75 , -118.125],\n",
      "       [\n",
      "[NiftiMasker.transform_single_imgs] Extracting region signals\n",
      "[NiftiMasker.transform_single_imgs] Cleaning extracted signals\n"
     ]
    },
    {
     "name": "stderr",
     "output_type": "stream",
     "text": [
      "/home/varoquau/dev/nilearn/nilearn/decoding/space_net.py:835: UserWarning: Brain mask is bigger than the volume of a standard human brain. This object is probably not tuned to be used on such data.\n",
      "  self.screening_percentile, self.mask_img_, verbose=self.verbose)\n",
      ".........[Parallel(n_jobs=1)]: Done   1 out of   1 | elapsed:   14.3s remaining:    0.0s\n",
      "....................................................../home/varoquau/.local/lib/python2.7/site-packages/numpy/lib/function_base.py:3167: RuntimeWarning: invalid value encountered in true_divide\n",
      "  c /= stddev[:, None]\n",
      "/home/varoquau/.local/lib/python2.7/site-packages/numpy/lib/function_base.py:3168: RuntimeWarning: invalid value encountered in true_divide\n",
      "  c /= stddev[None, :]\n",
      "/usr/lib/python2.7/dist-packages/scipy/stats/_distn_infrastructure.py:875: RuntimeWarning: invalid value encountered in greater\n",
      "  return (self.a < x) & (x < self.b)\n",
      "/usr/lib/python2.7/dist-packages/scipy/stats/_distn_infrastructure.py:875: RuntimeWarning: invalid value encountered in less\n",
      "  return (self.a < x) & (x < self.b)\n",
      "/usr/lib/python2.7/dist-packages/scipy/stats/_distn_infrastructure.py:1814: RuntimeWarning: invalid value encountered in less_equal\n",
      "  cond2 = cond0 & (x <= self.a)\n",
      ".........[Parallel(n_jobs=1)]: Done   8 out of   8 | elapsed:  1.9min finished\n"
     ]
    },
    {
     "name": "stdout",
     "output_type": "stream",
     "text": [
      "Time Elapsed: 115.338 seconds, 1 minutes.\n",
      "[NiftiMasker.transform_single_imgs] Loading data from Nifti1Image(\n",
      "shape=(40, 64, 64, 90),\n",
      "affine=array([[  -3.5  ,    0.   ,    0.   ,   68.25 ],\n",
      "       [   0.   ,    3.75 ,    0.   , -118.125],\n",
      "       [   0.   ,    0.   ,    3.75 , -118.125],\n",
      "       [ \n",
      "[NiftiMasker.transform_single_imgs] Extracting region signals\n",
      "[NiftiMasker.transform_single_imgs] Cleaning extracted signals\n",
      "Graph-net classification accuracy : 77.7778%\n"
     ]
    }
   ],
   "source": [
    "from nilearn.decoding import SpaceNetClassifier\n",
    "\n",
    "# Fit model on train data and predict on test data\n",
    "decoder = SpaceNetClassifier(memory=\"nilearn_cache\", penalty='graph-net')\n",
    "decoder.fit(X_train, y_train)\n",
    "y_pred = decoder.predict(X_test)\n",
    "accuracy = (y_pred == y_test).mean() * 100.\n",
    "print(\"Graph-net classification accuracy : %g%%\" % accuracy)"
   ]
  },
  {
   "cell_type": "markdown",
   "metadata": {},
   "source": [
    "Visualization of Graph-net weights\n",
    "------------------------------------\n",
    "\n"
   ]
  },
  {
   "cell_type": "code",
   "execution_count": 4,
   "metadata": {
    "collapsed": false
   },
   "outputs": [
    {
     "data": {
      "image/png": "[encoded data removed]",
      "text/plain": [
       "<matplotlib.figure.Figure at 0x7f0a0c66f690>"
      ]
     },
     "metadata": {},
     "output_type": "display_data"
    }
   ],
   "source": [
    "from nilearn.plotting import plot_stat_map, show\n",
    "coef_img = decoder.coef_img_\n",
    "plot_stat_map(coef_img, background_img,\n",
    "              title=\"graph-net: accuracy %g%%\" % accuracy,\n",
    "              cut_coords=(-52, -5), display_mode=\"yz\")\n",
    "\n",
    "# Save the coefficients to a nifti file\n",
    "coef_img.to_filename('haxby_graph-net_weights.nii')"
   ]
  },
  {
   "cell_type": "markdown",
   "metadata": {},
   "source": [
    "Now Fit SpaceNet with a TV-l1 penalty\n",
    "--------------------------------------\n",
    "\n"
   ]
  },
  {
   "cell_type": "code",
   "execution_count": 5,
   "metadata": {
    "collapsed": false
   },
   "outputs": [
    {
     "name": "stdout",
     "output_type": "stream",
     "text": [
      "[NiftiMasker.fit] Loading data from Nifti1Image(\n",
      "shape=(40, 64, 64, 126),\n",
      "affine=array([[  -3.5  ,    0.   ,    0.   ,   68.25 ],\n",
      "       [   0.   ,    3.75 ,    0.   , -118.125],\n",
      "       [   0.   ,    0.   ,    3.75 , -118.125],\n",
      "       [\n",
      "[NiftiMasker.fit] Computing the mask\n",
      "[NiftiMasker.fit] Resampling mask\n",
      "[NiftiMasker.transform_single_imgs] Loading data from Nifti1Image(\n",
      "shape=(40, 64, 64, 126),\n",
      "affine=array([[  -3.5  ,    0.   ,    0.   ,   68.25 ],\n",
      "       [   0.   ,    3.75 ,    0.   , -118.125],\n",
      "       [   0.   ,    0.   ,    3.75 , -118.125],\n",
      "       [\n",
      "[NiftiMasker.transform_single_imgs] Extracting region signals\n",
      "[NiftiMasker.transform_single_imgs] Cleaning extracted signals\n"
     ]
    },
    {
     "name": "stderr",
     "output_type": "stream",
     "text": [
      ".........[Parallel(n_jobs=1)]: Done   1 out of   1 | elapsed:  6.7min remaining:    0.0s\n",
      "..................................................................[Parallel(n_jobs=1)]: Done   8 out of   8 | elapsed: 15.4min finished\n"
     ]
    },
    {
     "name": "stdout",
     "output_type": "stream",
     "text": [
      "Time Elapsed: 927.991 seconds, 15 minutes.\n",
      "[NiftiMasker.transform_single_imgs] Loading data from Nifti1Image(\n",
      "shape=(40, 64, 64, 90),\n",
      "affine=array([[  -3.5  ,    0.   ,    0.   ,   68.25 ],\n",
      "       [   0.   ,    3.75 ,    0.   , -118.125],\n",
      "       [   0.   ,    0.   ,    3.75 , -118.125],\n",
      "       [ \n",
      "[NiftiMasker.transform_single_imgs] Extracting region signals\n",
      "[NiftiMasker.transform_single_imgs] Cleaning extracted signals\n",
      "TV-l1 classification accuracy : 76.6667%\n"
     ]
    }
   ],
   "source": [
    "decoder = SpaceNetClassifier(memory=\"nilearn_cache\", penalty='tv-l1')\n",
    "decoder.fit(X_train, y_train)\n",
    "y_pred = decoder.predict(X_test)\n",
    "accuracy = (y_pred == y_test).mean() * 100.\n",
    "print(\"TV-l1 classification accuracy : %g%%\" % accuracy)"
   ]
  },
  {
   "cell_type": "markdown",
   "metadata": {},
   "source": [
    "Visualization of TV-L1 weights\n",
    "-------------------------------\n",
    "\n"
   ]
  },
  {
   "cell_type": "code",
   "execution_count": 6,
   "metadata": {
    "collapsed": false
   },
   "outputs": [
    {
     "data": {
      "image/png": "[encoded data removed]",
      "text/plain": [
       "<matplotlib.figure.Figure at 0x7f0a184fcc50>"
      ]
     },
     "metadata": {},
     "output_type": "display_data"
    }
   ],
   "source": [
    "coef_img = decoder.coef_img_\n",
    "plot_stat_map(coef_img, background_img,\n",
    "              title=\"tv-l1: accuracy %g%%\" % accuracy,\n",
    "              cut_coords=(-52, -5), display_mode=\"yz\")\n",
    "\n",
    "# Save the coefficients to a nifti file\n",
    "coef_img.to_filename('haxby_tv-l1_weights.nii')\n",
    "show()"
   ]
  },
  {
   "cell_type": "markdown",
   "metadata": {},
   "source": [
    "We can see that the TV-l1 penalty is 3 times slower to converge and\n",
    "gives the same prediction accuracy. However, it yields much\n",
    "cleaner coefficient maps\n",
    "\n"
   ]
  }
 ],
 "metadata": {
  "kernelspec": {
   "display_name": "Python 2",
   "language": "python",
   "name": "python2"
  },
  "language_info": {
   "codemirror_mode": {
    "name": "ipython",
    "version": 2
   },
   "file_extension": ".py",
   "mimetype": "text/x-python",
   "name": "python",
   "nbconvert_exporter": "python",
   "pygments_lexer": "ipython2",
   "version": "2.7.14"
  }
 },
 "nbformat": 4,
 "nbformat_minor": 0
}
