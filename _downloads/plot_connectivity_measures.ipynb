{
  "nbformat_minor": 0, 
  "nbformat": 4, 
  "cells": [
    {
      "execution_count": null, 
      "cell_type": "code", 
      "source": [
        "%matplotlib inline"
      ], 
      "outputs": [], 
      "metadata": {
        "collapsed": false
      }
    }, 
    {
      "source": [
        "\nComparing different functional connectivity measures\n====================================================\n\nThis example compares different measures of functional connectivity between\nregions of interest : correlation, partial correlation, as well as a measure\ncalled tangent. The resulting connectivity coefficients are used to\nclassify ADHD vs control subjects and the tangent measure outperforms the\nstandard measures.\n\n"
      ], 
      "cell_type": "markdown", 
      "metadata": {}
    }, 
    {
      "execution_count": null, 
      "cell_type": "code", 
      "source": [
        "# Fetch dataset\nimport nilearn.datasets\natlas = nilearn.datasets.fetch_atlas_msdl()\ndataset = nilearn.datasets.fetch_adhd(n_subjects=30)"
      ], 
      "outputs": [], 
      "metadata": {
        "collapsed": false
      }
    }, 
    {
      "source": [
        "Extract regions time series signals\n"
      ], 
      "cell_type": "markdown", 
      "metadata": {}
    }, 
    {
      "execution_count": null, 
      "cell_type": "code", 
      "source": [
        "import nilearn.input_data\nmasker = nilearn.input_data.NiftiMapsMasker(\n    atlas.maps, resampling_target=\"maps\", detrend=True,\n    low_pass=None, high_pass=None, t_r=2.5, standardize=False,\n    memory='nilearn_cache', memory_level=1)\nsubjects = []\nsites = []\nadhds = []\nfor func_file, phenotypic in zip(dataset.func, dataset.phenotypic):\n    # keep only 3 sites, to save computation time\n    if phenotypic['site'] in [b'\"NYU\"', b'\"OHSU\"', b'\"NeuroImage\"']:\n        time_series = masker.fit_transform(func_file)\n        subjects.append(time_series)\n        sites.append(phenotypic['site'])\n        adhds.append(phenotypic['adhd'])  # ADHD/control label"
      ], 
      "outputs": [], 
      "metadata": {
        "collapsed": false
      }
    }, 
    {
      "source": [
        "Estimate connectivity\n"
      ], 
      "cell_type": "markdown", 
      "metadata": {}
    }, 
    {
      "execution_count": null, 
      "cell_type": "code", 
      "source": [
        "import nilearn.connectome\nkinds = ['tangent', 'partial correlation', 'correlation']\nindividual_connectivity_matrices = {}\nmean_connectivity_matrix = {}\nfor kind in kinds:\n    conn_measure = nilearn.connectome.ConnectivityMeasure(kind=kind)\n    individual_connectivity_matrices[kind] = conn_measure.fit_transform(\n        subjects)\n    # Compute the mean connectivity\n    if kind == 'tangent':\n        mean_connectivity_matrix[kind] = conn_measure.mean_\n    else:\n        mean_connectivity_matrix[kind] = \\\n            individual_connectivity_matrices[kind].mean(axis=0)"
      ], 
      "outputs": [], 
      "metadata": {
        "collapsed": false
      }
    }, 
    {
      "source": [
        "Plot the mean connectome\n"
      ], 
      "cell_type": "markdown", 
      "metadata": {}
    }, 
    {
      "execution_count": null, 
      "cell_type": "code", 
      "source": [
        "import numpy as np\nimport nilearn.plotting\nlabels = np.recfromcsv(atlas.labels)\nregion_coords = labels[['x', 'y', 'z']].tolist()\nfor kind in kinds:\n    nilearn.plotting.plot_connectome(mean_connectivity_matrix[kind],\n                                     region_coords, edge_threshold='98%',\n                                     title=kind)"
      ], 
      "outputs": [], 
      "metadata": {
        "collapsed": false
      }
    }, 
    {
      "source": [
        "Use the connectivity coefficients to classify ADHD vs controls\n"
      ], 
      "cell_type": "markdown", 
      "metadata": {}
    }, 
    {
      "execution_count": null, 
      "cell_type": "code", 
      "source": [
        "from sklearn.svm import LinearSVC\nfrom sklearn.cross_validation import StratifiedKFold, cross_val_score\nclasses = ['{0}{1}'.format(site, adhd) for site, adhd in zip(sites, adhds)]\nprint('Classification accuracy:')\nmean_scores = []\ncv = StratifiedKFold(classes, n_folds=3)\nfor kind in kinds:\n    svc = LinearSVC()\n    # Transform the connectivity matrices to 1D arrays\n    coonectivity_coefs = nilearn.connectome.sym_to_vec(\n        individual_connectivity_matrices[kind])\n    cv_scores = cross_val_score(svc, coonectivity_coefs,\n                                adhds, cv=cv, scoring='accuracy')\n    print('%20s score: %1.2f +- %1.2f' % (kind, cv_scores.mean(),\n                                          cv_scores.std()))\n    mean_scores.append(cv_scores.mean())"
      ], 
      "outputs": [], 
      "metadata": {
        "collapsed": false
      }
    }, 
    {
      "source": [
        "Display the classification scores\n"
      ], 
      "cell_type": "markdown", 
      "metadata": {}
    }, 
    {
      "execution_count": null, 
      "cell_type": "code", 
      "source": [
        "import matplotlib.pyplot as plt\nplt.figure(figsize=(6, 4))\npositions = np.arange(len(kinds)) * .1 + .1\nplt.barh(positions, mean_scores, align='center', height=.05)\nyticks = [kind.replace(' ', '\\n') for kind in kinds]\nplt.yticks(positions, yticks)\nplt.xlabel('Classification accuracy')\nplt.grid(True)\nplt.tight_layout()\nplt.show()"
      ], 
      "outputs": [], 
      "metadata": {
        "collapsed": false
      }
    }
  ], 
  "metadata": {
    "kernelspec": {
      "display_name": "Python 2", 
      "name": "python2", 
      "language": "python"
    }, 
    "language_info": {
      "mimetype": "text/x-python", 
      "nbconvert_exporter": "python", 
      "name": "python", 
      "file_extension": ".py", 
      "version": "2.7.10", 
      "pygments_lexer": "ipython2", 
      "codemirror_mode": {
        "version": 2, 
        "name": "ipython"
      }
    }
  }
}