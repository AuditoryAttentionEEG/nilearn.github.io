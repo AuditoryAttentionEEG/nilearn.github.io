{
  "nbformat_minor": 0, 
  "nbformat": 4, 
  "cells": [
    {
      "execution_count": null, 
      "cell_type": "code", 
      "source": [
        "%matplotlib inline"
      ], 
      "outputs": [], 
      "metadata": {
        "collapsed": false
      }
    }, 
    {
      "source": [
        "\nWard clustering to learn a brain parcellation from rest fMRI\n====================================================================\n\nWe use spatially-constrained Ward-clustering to create a set of\nparcels. These parcels are particularly interesting for creating a\n'compressed' representation of the data, replacing the data in the fMRI\nimages by mean on the parcellation.\n\nThis parcellation may be useful in a supervised learning, see for\ninstance: `A supervised clustering approach for fMRI-based inference of\nbrain states <https://hal.inria.fr/inria-00589201>`_, Michel et al,\nPattern Recognition 2011.\n\n"
      ], 
      "cell_type": "markdown", 
      "metadata": {}
    }, 
    {
      "execution_count": null, 
      "cell_type": "code", 
      "source": [
        "### Load nyu_rest dataset #####################################################\n\nimport numpy as np\nfrom nilearn import datasets\nfrom nilearn import input_data\nfrom nilearn.plotting import plot_roi, plot_epi, show\nnyu_dataset = datasets.fetch_nyu_rest(n_subjects=1)\n\n# print basic information on the dataset\nprint('First subject anatomical nifti image (3D) is at: %s' %\n      nyu_dataset.anat_anon[0])\nprint('First subject functional nifti image (4D) is at: %s' %\n      nyu_dataset.func[0])  # 4D data\n\n# This is resting-state data: the background has not been removed yet,\n# thus we need to use mask_strategy='epi' to compute the mask from the\n# EPI images\nnifti_masker = input_data.NiftiMasker(memory='nilearn_cache',\n                                      mask_strategy='epi', memory_level=1,\n                                      standardize=False)\nfunc_filename = nyu_dataset.func[0]\nfmri_masked = nifti_masker.fit_transform(func_filename)\nmask = nifti_masker.mask_img_.get_data().astype(np.bool)\n\n### Ward ######################################################################\n\n# Compute connectivity matrix: which voxel is connected to which\nfrom sklearn.feature_extraction import image\nshape = mask.shape\nconnectivity = image.grid_to_graph(n_x=shape[0], n_y=shape[1],\n                                   n_z=shape[2], mask=mask)\n\n# Computing the ward for the first time, this is long...\nfrom sklearn.cluster import FeatureAgglomeration\n# If you have scikit-learn older than 0.14, you need to import\n# WardAgglomeration instead of FeatureAgglomeration\nimport time\nstart = time.time()\nward = FeatureAgglomeration(n_clusters=1000, connectivity=connectivity,\n                            linkage='ward', memory='nilearn_cache')\nward.fit(fmri_masked)\nprint(\"Ward agglomeration 1000 clusters: %.2fs\" % (time.time() - start))\n\n# Compute the ward with more clusters, should be faster as we are using\n# the caching mechanism\nstart = time.time()\nward = FeatureAgglomeration(n_clusters=2000, connectivity=connectivity,\n                            linkage='ward', memory='nilearn_cache')\nward.fit(fmri_masked)\nprint(\"Ward agglomeration 2000 clusters: %.2fs\" % (time.time() - start))\n\n### Show result ###############################################################\n\n# Unmask data\n# Avoid 0 label\nlabels = ward.labels_ + 1\nlabels_img = nifti_masker.inverse_transform(labels)\n\nfrom nilearn.image import mean_img\nmean_func_img = mean_img(func_filename)\n\n# common cut coordinates for all plots\n\nfirst_plot = plot_roi(labels_img, mean_func_img, title=\"Ward parcellation\",\n                      display_mode='xz')\n# labels_img is a Nifti1Image object, it can be saved to file with the\n# following code:\nlabels_img.to_filename('parcellation.nii')\n\n\n# Display the original data\nplot_epi(nifti_masker.inverse_transform(fmri_masked[0]),\n         cut_coords=first_plot.cut_coords,\n         title='Original (%i voxels)' % fmri_masked.shape[1],\n         display_mode='xz')\n\n# A reduced data can be create by taking the parcel-level average:\n# Note that, as many objects in the scikit-learn, the ward object exposes\n# a transform method that modifies input features. Here it reduces their\n# dimension\nfmri_reduced = ward.transform(fmri_masked)\n\n# Display the corresponding data compressed using the parcellation\nfmri_compressed = ward.inverse_transform(fmri_reduced)\ncompressed_img = nifti_masker.inverse_transform(fmri_compressed[0])\n\nplot_epi(compressed_img, cut_coords=first_plot.cut_coords,\n         title='Compressed representation (2000 parcels)',\n         display_mode='xz')\n\nshow()"
      ], 
      "outputs": [], 
      "metadata": {
        "collapsed": false
      }
    }
  ], 
  "metadata": {
    "kernelspec": {
      "display_name": "Python 2", 
      "name": "python2", 
      "language": "python"
    }, 
    "language_info": {
      "mimetype": "text/x-python", 
      "nbconvert_exporter": "python", 
      "name": "python", 
      "file_extension": ".py", 
      "version": "2.7.10", 
      "pygments_lexer": "ipython2", 
      "codemirror_mode": {
        "version": 2, 
        "name": "ipython"
      }
    }
  }
}