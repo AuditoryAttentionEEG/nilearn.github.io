{
  "nbformat_minor": 0, 
  "nbformat": 4, 
  "cells": [
    {
      "execution_count": null, 
      "cell_type": "code", 
      "source": [
        "%matplotlib inline"
      ], 
      "outputs": [], 
      "metadata": {
        "collapsed": false
      }
    }, 
    {
      "source": [
        "\nExtracting resting-state signals from different atlases for comparison\n======================================================================\n\nIn this example :class:`nilearn.input_data.NiftiLabelsMasker` is used to\nextract time series from nifti objects using different parcellation atlases.\n\nThe time series of all subjects of the ADHD Dataset are concatenated to create\nparcel-wise correlation matrices for each atlas.\n\n# author: Amadeus Kanaan\n\n\n"
      ], 
      "cell_type": "markdown", 
      "metadata": {}
    }, 
    {
      "execution_count": null, 
      "cell_type": "code", 
      "source": [
        "import numpy as np\nfrom nilearn import datasets\nfrom nilearn.input_data import NiftiLabelsMasker\nfrom nilearn import plotting"
      ], 
      "outputs": [], 
      "metadata": {
        "collapsed": false
      }
    }, 
    {
      "source": [
        "Load atlases\n-------------\n\n"
      ], 
      "cell_type": "markdown", 
      "metadata": {}
    }, 
    {
      "execution_count": null, 
      "cell_type": "code", 
      "source": [
        "destrieux = datasets.fetch_atlas_destrieux_2009()\nyeo = datasets.fetch_atlas_yeo_2011()\nharvard_oxford = datasets.fetch_atlas_harvard_oxford('cort-maxprob-thr25-2mm')\n\nprint('Destrieux atlas nifti image (3D) is located at: %s' % destrieux['maps'])\nprint('Yeo atlas nifti image (3D) with 17 parcels and liberal mask is located '\n      'at: %s' % yeo['thick_17'])\nprint('Harvard Oxford atlas nifti image (3D) thresholded at .25 is located '\n      'at: %s' % harvard_oxford['maps'])\n\natlases_and_thresholds = {'Destrieux Atlas (struct)': [destrieux['maps'], '97%'],\n                          'Yeo Atlas 17 thick (func)': [yeo['thick_17'], '70%'],\n                          'Harvard Oxford > 25% (struct)': [harvard_oxford['maps'], '90%']}"
      ], 
      "outputs": [], 
      "metadata": {
        "collapsed": false
      }
    }, 
    {
      "source": [
        "Load functional data\n--------------------\n\n"
      ], 
      "cell_type": "markdown", 
      "metadata": {}
    }, 
    {
      "execution_count": null, 
      "cell_type": "code", 
      "source": [
        "data = datasets.fetch_adhd(n_subjects=10)\n\nprint('Functional nifti images (4D, one per subject) are located at : %r'\n      % data['func'])\nprint('Counfound csv files (one per subject) are located at : %r'\n      % data['confounds'])"
      ], 
      "outputs": [], 
      "metadata": {
        "collapsed": false
      }
    }, 
    {
      "source": [
        "Iterate over fetched atlases to extract coordinates\n---------------------------------------------------\n\n"
      ], 
      "cell_type": "markdown", 
      "metadata": {}
    }, 
    {
      "execution_count": null, 
      "cell_type": "code", 
      "source": [
        "for name, (atlas, threshold) in sorted(atlases_and_thresholds.items()):\n    # create masker to extract functional data within atlas parcels\n    masker = NiftiLabelsMasker(labels_img=atlas,\n                               standardize=True,\n                               memory='nilearn_cache')\n\n    # extract time series from all subjects and concatenate them\n    time_series = []\n    for func, confounds in zip(data.func, data.confounds):\n        time_series.append(masker.fit_transform(func, confounds=confounds))\n\n    time_series = np.concatenate(time_series)\n\n    # calculate correlation matrix and display\n    correlation_matrix = np.corrcoef(time_series.T)\n\n    # grab center coordinates for atlas labels\n    coordinates = plotting.find_parcellation_cut_coords(atlas)\n\n    # plot connectome\n    plotting.plot_connectome(correlation_matrix, coordinates,\n                             edge_threshold=threshold, title=name)\n\nplotting.show()"
      ], 
      "outputs": [], 
      "metadata": {
        "collapsed": false
      }
    }
  ], 
  "metadata": {
    "kernelspec": {
      "display_name": "Python 2", 
      "name": "python2", 
      "language": "python"
    }, 
    "language_info": {
      "mimetype": "text/x-python", 
      "nbconvert_exporter": "python", 
      "name": "python", 
      "file_extension": ".py", 
      "version": "2.7.13", 
      "pygments_lexer": "ipython2", 
      "codemirror_mode": {
        "version": 2, 
        "name": "ipython"
      }
    }
  }
}