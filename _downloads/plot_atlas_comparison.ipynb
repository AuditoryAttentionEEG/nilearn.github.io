{
  "metadata": {
    "kernelspec": {
      "language": "python",
      "name": "python3",
      "display_name": "Python 3"
    },
    "language_info": {
      "codemirror_mode": {
        "version": 3,
        "name": "ipython"
      },
      "pygments_lexer": "ipython3",
      "mimetype": "text/x-python",
      "name": "python",
      "version": "3.5.6",
      "file_extension": ".py",
      "nbconvert_exporter": "python"
    }
  },
  "nbformat": 4,
  "nbformat_minor": 0,
  "cells": [
    {
      "metadata": {
        "collapsed": false
      },
      "source": [
        "%matplotlib inline"
      ],
      "outputs": [],
      "execution_count": null,
      "cell_type": "code"
    },
    {
      "metadata": {},
      "source": [
        "\nComparing connectomes on different reference atlases\n====================================================\n\nThis examples shows how to turn a parcellation into connectome for\nvisualization. This requires choosing centers for each parcel\nor network, via :func:`nilearn.plotting.find_parcellation_cut_coords` for\nparcellation based on labels and\n:func:`nilearn.plotting.find_probabilistic_atlas_cut_coords` for\nparcellation based on probabilistic values.\n\nIn the intermediary steps, we make use of\n:class:`nilearn.input_data.NiftiLabelsMasker` and\n:class:`nilearn.input_data.NiftiMapsMasker` to extract time series from nifti\nobjects using different parcellation atlases.\nThe time series of all subjects of the ADHD Dataset are concatenated and\ngiven directly to :class:`nilearn.connectome.ConnectivityMeasure` for\ncomputing parcel-wise correlation matrices for each atlas across all subjects.\n\nMean correlation matrix is displayed on glass brain on extracted coordinates.\n\n# author: Amadeus Kanaan\n\n\n"
      ],
      "cell_type": "markdown"
    },
    {
      "metadata": {},
      "source": [
        "Load atlases\n-------------\n\n"
      ],
      "cell_type": "markdown"
    },
    {
      "metadata": {
        "collapsed": false
      },
      "source": [
        "from nilearn import datasets\n\nyeo = datasets.fetch_atlas_yeo_2011()\nprint('Yeo atlas nifti image (3D) with 17 parcels and liberal mask is located '\n      'at: %s' % yeo['thick_17'])"
      ],
      "outputs": [],
      "execution_count": null,
      "cell_type": "code"
    },
    {
      "metadata": {},
      "source": [
        "Load functional data\n--------------------\n\n"
      ],
      "cell_type": "markdown"
    },
    {
      "metadata": {
        "collapsed": false
      },
      "source": [
        "data = datasets.fetch_adhd(n_subjects=10)\n\nprint('Functional nifti images (4D, e.g., one subject) are located at : %r'\n      % data['func'][0])\nprint('Counfound csv files (of same subject) are located at : %r'\n      % data['confounds'][0])"
      ],
      "outputs": [],
      "execution_count": null,
      "cell_type": "code"
    },
    {
      "metadata": {},
      "source": [
        "Extract coordinates on Yeo atlas - parcellations\n------------------------------------------------\n\n"
      ],
      "cell_type": "markdown"
    },
    {
      "metadata": {
        "collapsed": false
      },
      "source": [
        "from nilearn.input_data import NiftiLabelsMasker\nfrom nilearn.connectome import ConnectivityMeasure\n\n# ConenctivityMeasure from Nilearn uses simple 'correlation' to compute\n# connectivity matrices for all subjects in a list\nconnectome_measure = ConnectivityMeasure(kind='correlation')\n\n# useful for plotting connectivity interactions on glass brain\nfrom nilearn import plotting\n\n# create masker to extract functional data within atlas parcels\nmasker = NiftiLabelsMasker(labels_img=yeo['thick_17'], standardize=True,\n                           memory='nilearn_cache')\n\n# extract time series from all subjects and concatenate them\ntime_series = []\nfor func, confounds in zip(data.func, data.confounds):\n    time_series.append(masker.fit_transform(func, confounds=confounds))\n\n# calculate correlation matrices across subjects and display\ncorrelation_matrices = connectome_measure.fit_transform(time_series)\n\n# Mean correlation matrix across 10 subjects can be grabbed like this,\n# using connectome measure object\nmean_correlation_matrix = connectome_measure.mean_\n\n# grab center coordinates for atlas labels\ncoordinates = plotting.find_parcellation_cut_coords(labels_img=yeo['thick_17'])\n\n# plot connectome with 80% edge strength in the connectivity\nplotting.plot_connectome(mean_correlation_matrix, coordinates,\n                         edge_threshold=\"80%\",\n                         title='Yeo Atlas 17 thick (func)')"
      ],
      "outputs": [],
      "execution_count": null,
      "cell_type": "code"
    },
    {
      "metadata": {},
      "source": [
        "Load probabilistic atlases - extracting coordinates on brain maps\n-----------------------------------------------------------------\n\n"
      ],
      "cell_type": "markdown"
    },
    {
      "metadata": {
        "collapsed": false
      },
      "source": [
        "msdl = datasets.fetch_atlas_msdl()"
      ],
      "outputs": [],
      "execution_count": null,
      "cell_type": "code"
    },
    {
      "metadata": {},
      "source": [
        "Iterate over fetched atlases to extract coordinates - probabilistic\n-------------------------------------------------------------------\n\n"
      ],
      "cell_type": "markdown"
    },
    {
      "metadata": {
        "collapsed": false
      },
      "source": [
        "from nilearn.input_data import NiftiMapsMasker\n\n# create masker to extract functional data within atlas parcels\nmasker = NiftiMapsMasker(maps_img=msdl['maps'], standardize=True,\n                         memory='nilearn_cache')\n\n# extract time series from all subjects and concatenate them\ntime_series = []\nfor func, confounds in zip(data.func, data.confounds):\n    time_series.append(masker.fit_transform(func, confounds=confounds))\n\n# calculate correlation matrices across subjects and display\ncorrelation_matrices = connectome_measure.fit_transform(time_series)\n\n# Mean correlation matrix across 10 subjects can be grabbed like this,\n# using connectome measure object\nmean_correlation_matrix = connectome_measure.mean_\n\n# grab center coordinates for probabilistic atlas\ncoordinates = plotting.find_probabilistic_atlas_cut_coords(maps_img=msdl['maps'])\n\n# plot connectome with 80% edge strength in the connectivity\nplotting.plot_connectome(mean_correlation_matrix, coordinates,\n                         edge_threshold=\"80%\", title='MSDL (probabilistic)')\nplotting.show()"
      ],
      "outputs": [],
      "execution_count": null,
      "cell_type": "code"
    }
  ]
}