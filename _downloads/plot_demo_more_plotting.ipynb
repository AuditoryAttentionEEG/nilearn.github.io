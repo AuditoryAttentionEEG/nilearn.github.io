{
  "nbformat_minor": 0, 
  "nbformat": 4, 
  "cells": [
    {
      "execution_count": null, 
      "cell_type": "code", 
      "source": [
        "%matplotlib inline"
      ], 
      "outputs": [], 
      "metadata": {
        "collapsed": false
      }
    }, 
    {
      "source": [
        "\nMore nilearn plotting\n=====================\n\nSee :ref:`plotting` for more details.\n"
      ], 
      "cell_type": "markdown", 
      "metadata": {}
    }, 
    {
      "execution_count": null, 
      "cell_type": "code", 
      "source": [
        "# The imports from nilearn plotting and image processing\nfrom nilearn import plotting, image"
      ], 
      "outputs": [], 
      "metadata": {
        "collapsed": false
      }
    }, 
    {
      "source": [
        "Retrieve the data: haxby dataset to have EPI images and masks, and\nlocalizer dataset to have contrast maps\n"
      ], 
      "cell_type": "markdown", 
      "metadata": {}
    }, 
    {
      "execution_count": null, 
      "cell_type": "code", 
      "source": [
        "from nilearn import datasets\nhaxby_dataset = datasets.fetch_haxby(n_subjects=1)\nhaxby_anat_filename = haxby_dataset.anat[0]\nhaxby_mask_filename = haxby_dataset.mask_vt[0]\nhaxby_func_filename = haxby_dataset.func[0]\n\nlocalizer_dataset = datasets.fetch_localizer_contrasts(\n    [\"left vs right button press\"],\n    n_subjects=2,\n    get_anats=True)\nlocalizer_anat_filename = localizer_dataset.anats[1]\nlocalizer_cmap_filename = localizer_dataset.cmaps[1]"
      ], 
      "outputs": [], 
      "metadata": {
        "collapsed": false
      }
    }, 
    {
      "execution_count": null, 
      "cell_type": "code", 
      "source": [
        "plotting.plot_stat_map(localizer_cmap_filename, display_mode='ortho',\n                       cut_coords=(36, -27, 60),\n                       title=\"display_mode='ortho', cut_coords=(36, -27, 60)\")"
      ], 
      "outputs": [], 
      "metadata": {
        "collapsed": false
      }
    }, 
    {
      "execution_count": null, 
      "cell_type": "code", 
      "source": [
        "plotting.plot_stat_map(localizer_cmap_filename, display_mode='z', cut_coords=5,\n                       title=\"display_mode='z', cut_coords=5\")"
      ], 
      "outputs": [], 
      "metadata": {
        "collapsed": false
      }
    }, 
    {
      "execution_count": null, 
      "cell_type": "code", 
      "source": [
        "plotting.plot_stat_map(localizer_cmap_filename, display_mode='x',\n                       cut_coords=(-36, 36),\n                       title=\"display_mode='x', cut_coords=(-36, 36)\")"
      ], 
      "outputs": [], 
      "metadata": {
        "collapsed": false
      }
    }, 
    {
      "execution_count": null, 
      "cell_type": "code", 
      "source": [
        "plotting.plot_stat_map(localizer_cmap_filename, display_mode='y', cut_coords=1,\n                       title=\"display_mode='x', cut_coords=(-36, 36)\")"
      ], 
      "outputs": [], 
      "metadata": {
        "collapsed": false
      }
    }, 
    {
      "execution_count": null, 
      "cell_type": "code", 
      "source": [
        "plotting.plot_stat_map(localizer_cmap_filename, display_mode='z',\n                       cut_coords=1, colorbar=False,\n                       title=\"display_mode='z', cut_coords=1, colorbar=False\")"
      ], 
      "outputs": [], 
      "metadata": {
        "collapsed": false
      }
    }, 
    {
      "execution_count": null, 
      "cell_type": "code", 
      "source": [
        "plotting.plot_stat_map(localizer_cmap_filename, display_mode='xz',\n                       cut_coords=(36, 60),\n                       title=\"display_mode='xz', cut_coords=(36, 60)\")"
      ], 
      "outputs": [], 
      "metadata": {
        "collapsed": false
      }
    }, 
    {
      "execution_count": null, 
      "cell_type": "code", 
      "source": [
        "plotting.plot_stat_map(localizer_cmap_filename, display_mode='yx',\n                       cut_coords=(-27, 36),\n                       title=\"display_mode='yx', cut_coords=(-27, 36)\")"
      ], 
      "outputs": [], 
      "metadata": {
        "collapsed": false
      }
    }, 
    {
      "execution_count": null, 
      "cell_type": "code", 
      "source": [
        "plotting.plot_stat_map(localizer_cmap_filename, display_mode='yz',\n                       cut_coords=(-27, 60),\n                       title=\"display_mode='yz', cut_coords=(-27, 60)\")"
      ], 
      "outputs": [], 
      "metadata": {
        "collapsed": false
      }
    }, 
    {
      "source": [
        "demo display objects with add_* methods\n"
      ], 
      "cell_type": "markdown", 
      "metadata": {}
    }, 
    {
      "execution_count": null, 
      "cell_type": "code", 
      "source": [
        "mean_haxby_img = image.mean_img(haxby_func_filename)\n\n# Plot T1 outline on top of the mean EPI (useful for checking coregistration)\ndisplay = plotting.plot_anat(mean_haxby_img, title=\"add_edges\")\ndisplay.add_edges(haxby_anat_filename)"
      ], 
      "outputs": [], 
      "metadata": {
        "collapsed": false
      }
    }, 
    {
      "source": [
        "Plotting outline of the mask on top of the EPI\n"
      ], 
      "cell_type": "markdown", 
      "metadata": {}
    }, 
    {
      "execution_count": null, 
      "cell_type": "code", 
      "source": [
        "display = plotting.plot_anat(mean_haxby_img, title=\"add_contours\",\n                             cut_coords=(28, -34, -22))\ndisplay.add_contours(haxby_mask_filename, levels=[0.5], colors='r')"
      ], 
      "outputs": [], 
      "metadata": {
        "collapsed": false
      }
    }, 
    {
      "source": [
        "demo saving plots to file\n"
      ], 
      "cell_type": "markdown", 
      "metadata": {}
    }, 
    {
      "execution_count": null, 
      "cell_type": "code", 
      "source": [
        "plotting.plot_stat_map(localizer_cmap_filename,\n                       title='Using plot_stat_map output_file',\n                       output_file='plot_stat_map.png')"
      ], 
      "outputs": [], 
      "metadata": {
        "collapsed": false
      }
    }, 
    {
      "execution_count": null, 
      "cell_type": "code", 
      "source": [
        "display = plotting.plot_stat_map(localizer_cmap_filename,\n                                 title='Using display savefig')\ndisplay.savefig('plot_stat_map_from_display.png')\n# In non-interactive settings make sure you close your displays\ndisplay.close()\n\nplotting.show()"
      ], 
      "outputs": [], 
      "metadata": {
        "collapsed": false
      }
    }
  ], 
  "metadata": {
    "kernelspec": {
      "display_name": "Python 2", 
      "name": "python2", 
      "language": "python"
    }, 
    "language_info": {
      "mimetype": "text/x-python", 
      "nbconvert_exporter": "python", 
      "name": "python", 
      "file_extension": ".py", 
      "version": "2.7.6", 
      "pygments_lexer": "ipython2", 
      "codemirror_mode": {
        "version": 2, 
        "name": "ipython"
      }
    }
  }
}