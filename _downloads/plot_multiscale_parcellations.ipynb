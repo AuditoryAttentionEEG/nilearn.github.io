{
  "metadata": {
    "kernelspec": {
      "language": "python",
      "name": "python3",
      "display_name": "Python 3"
    },
    "language_info": {
      "codemirror_mode": {
        "version": 3,
        "name": "ipython"
      },
      "pygments_lexer": "ipython3",
      "mimetype": "text/x-python",
      "name": "python",
      "version": "3.5.6",
      "file_extension": ".py",
      "nbconvert_exporter": "python"
    }
  },
  "nbformat": 4,
  "nbformat_minor": 0,
  "cells": [
    {
      "metadata": {
        "collapsed": false
      },
      "source": [
        "%matplotlib inline"
      ],
      "outputs": [],
      "execution_count": null,
      "cell_type": "code"
    },
    {
      "metadata": {},
      "source": [
        "\nVisualizing multiscale functional brain parcellations\n=====================================================\n\nThis example shows how to download and fetch brain parcellations of\nmultiple networks using :func:`nilearn.datasets.fetch_atlas_basc_multiscale_2015`\nand visualize them using plotting function :func:`nilearn.plotting.plot_roi`.\n\nWe show here only three different networks of 'symmetric' version. For more\ndetails about different versions and different networks, please refer to its\ndocumentation.\n\n"
      ],
      "cell_type": "markdown"
    },
    {
      "metadata": {},
      "source": [
        "Retrieving multiscale group brain parcellations\n-----------------------------------------------\n\n"
      ],
      "cell_type": "markdown"
    },
    {
      "metadata": {
        "collapsed": false
      },
      "source": [
        "# import datasets module and use `fetch_atlas_basc_multiscale_2015` function\nfrom nilearn import datasets\n\nparcellations = datasets.fetch_atlas_basc_multiscale_2015(version='sym')\n\n# We show here networks of 64, 197, 444\nnetworks_64 = parcellations['scale064']\nnetworks_197 = parcellations['scale197']\nnetworks_444 = parcellations['scale444']"
      ],
      "outputs": [],
      "execution_count": null,
      "cell_type": "code"
    },
    {
      "metadata": {},
      "source": [
        "Visualizing brain parcellations\n-------------------------------\n\n"
      ],
      "cell_type": "markdown"
    },
    {
      "metadata": {
        "collapsed": false
      },
      "source": [
        "# import plotting module and use `plot_roi` function, since the maps are in 3D\nfrom nilearn import plotting\n\n# The coordinates of all plots are selected automatically by itself\n# We manually change the colormap of our choice\nplotting.plot_roi(networks_64, cmap=plotting.cm.bwr,\n                  title='64 regions of brain clusters')\n\nplotting.plot_roi(networks_197, cmap=plotting.cm.bwr,\n                  title='197 regions of brain clusters')\n\nplotting.plot_roi(networks_444, cmap=plotting.cm.bwr_r,\n                  title='444 regions of brain clusters')\n\nplotting.show()"
      ],
      "outputs": [],
      "execution_count": null,
      "cell_type": "code"
    }
  ]
}