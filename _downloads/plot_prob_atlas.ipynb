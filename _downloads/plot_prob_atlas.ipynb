{
  "metadata": {
    "kernelspec": {
      "language": "python",
      "name": "python3",
      "display_name": "Python 3"
    },
    "language_info": {
      "codemirror_mode": {
        "version": 3,
        "name": "ipython"
      },
      "pygments_lexer": "ipython3",
      "mimetype": "text/x-python",
      "name": "python",
      "version": "3.5.6",
      "file_extension": ".py",
      "nbconvert_exporter": "python"
    }
  },
  "nbformat": 4,
  "nbformat_minor": 0,
  "cells": [
    {
      "metadata": {
        "collapsed": false
      },
      "source": [
        "%matplotlib inline"
      ],
      "outputs": [],
      "execution_count": null,
      "cell_type": "code"
    },
    {
      "metadata": {},
      "source": [
        "\nVisualizing 4D probabilistic atlas maps\n=======================================\n\nThis example shows how to visualize probabilistic atlases made of 4D images.\nThere are 3 different display types:\n\n1. \"contours\", which means maps or ROIs are shown as contours delineated by     colored lines.\n\n2. \"filled_contours\", maps are shown as contours same as above but with     fillings inside the contours.\n\n3. \"continuous\", maps are shown as just color overlays.\n\nA colorbar can optionally be added.\n\nThe :func:`nilearn.plotting.plot_prob_atlas` function displays each map\nwith each different color which are picked randomly from the colormap\nwhich is already defined.\n\nSee `plotting` for more information to know how to tune the parameters.\n\n"
      ],
      "cell_type": "markdown"
    },
    {
      "metadata": {
        "collapsed": false
      },
      "source": [
        "# Load 4D probabilistic atlases\nfrom nilearn import datasets\n\n# Harvard Oxford Atlasf\nharvard_oxford = datasets.fetch_atlas_harvard_oxford('cort-prob-2mm')\nharvard_oxford_sub = datasets.fetch_atlas_harvard_oxford('sub-prob-2mm')\n\n# Multi Subject Dictionary Learning Atlas\nmsdl = datasets.fetch_atlas_msdl()\n\n# Smith ICA Atlas and Brain Maps 2009\nsmith = datasets.fetch_atlas_smith_2009()\n\n# ICBM tissue probability\nicbm = datasets.fetch_icbm152_2009()\n\n# Allen RSN networks\nallen = datasets.fetch_atlas_allen_2011()\n\n# Pauli subcortical atlas\nsubcortex = datasets.fetch_atlas_pauli_2017()\n\n# Visualization\nfrom nilearn import plotting\n\natlas_types = {'Harvard_Oxford': harvard_oxford.maps,\n               'Harvard_Oxford sub': harvard_oxford_sub.maps,\n               'MSDL': msdl.maps, 'Smith 2009 10 RSNs': smith.rsn10,\n               'Smith2009 20 RSNs': smith.rsn20,\n               'Smith2009 70 RSNs': smith.rsn70,\n               'Smith2009 20 Brainmap': smith.bm20,\n               'Smith2009 70 Brainmap': smith.bm70,\n               'ICBM tissues': (icbm['wm'], icbm['gm'], icbm['csf']),\n               'Allen2011': allen.rsn28,\n               'Pauli2017 Subcortical Atlas': subcortex.maps,\n               }\n\nfor name, atlas in sorted(atlas_types.items()):\n    plotting.plot_prob_atlas(atlas, title=name)\n\n# An optional colorbar can be set\nplotting.plot_prob_atlas(smith.bm10, title='Smith2009 10 Brainmap (with'\n                                           ' colorbar)',\n                         colorbar=True)\nprint('ready')\nplotting.show()"
      ],
      "outputs": [],
      "execution_count": null,
      "cell_type": "code"
    }
  ]
}