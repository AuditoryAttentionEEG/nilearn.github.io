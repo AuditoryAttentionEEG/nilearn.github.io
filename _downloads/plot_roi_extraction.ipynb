{
  "nbformat_minor": 0, 
  "nbformat": 4, 
  "cells": [
    {
      "execution_count": null, 
      "cell_type": "code", 
      "source": [
        "%matplotlib inline"
      ], 
      "outputs": [], 
      "metadata": {
        "collapsed": false
      }
    }, 
    {
      "source": [
        "\nComputing an ROI mask\n=======================\n\nExample showing how a T-test can be performed to compute an ROI\nmask, and how simple operations can improve the quality of the mask\nobtained.\n"
      ], 
      "cell_type": "markdown", 
      "metadata": {}
    }, 
    {
      "source": [
        "Coordinates of the slice we will be displaying\n"
      ], 
      "cell_type": "markdown", 
      "metadata": {}
    }, 
    {
      "execution_count": null, 
      "cell_type": "code", 
      "source": [
        "coronal = -24\nsagittal = -33\naxial = -17\ncut_coords = (coronal, sagittal, axial)"
      ], 
      "outputs": [], 
      "metadata": {
        "collapsed": false
      }
    }, 
    {
      "source": [
        "Load the data\n"
      ], 
      "cell_type": "markdown", 
      "metadata": {}
    }, 
    {
      "execution_count": null, 
      "cell_type": "code", 
      "source": [
        "# Fetch the data files from Internet\nfrom nilearn import datasets\nfrom nilearn.image import new_img_like\n\n\nhaxby_dataset = datasets.fetch_haxby(n_subjects=1)\n\n# print basic information on the dataset\nprint('First subject anatomical nifti image (3D) located is at: %s' %\n      haxby_dataset.anat[0])\nprint('First subject functional nifti image (4D) is located at: %s' %\n      haxby_dataset.func[0])\n\n# Second, load the labels\nimport numpy as np\n\nsession_target = np.recfromcsv(haxby_dataset.session_target[0], delimiter=\" \")\nhaxby_labels = session_target['labels']\n\nimport matplotlib.pyplot as plt\nfrom nilearn.input_data import NiftiLabelsMasker"
      ], 
      "outputs": [], 
      "metadata": {
        "collapsed": false
      }
    }, 
    {
      "source": [
        "Build a statistical test to find voxels of interest\n"
      ], 
      "cell_type": "markdown", 
      "metadata": {}
    }, 
    {
      "execution_count": null, 
      "cell_type": "code", 
      "source": [
        "# Smooth the data\nfrom nilearn import image\nfmri_filename = haxby_dataset.func[0]\nfmri_img = image.smooth_img(fmri_filename, fwhm=6)\n\n# Plot the mean image\nfrom nilearn.plotting import plot_epi\nmean_img = image.mean_img(fmri_img)\nplot_epi(mean_img, title='Smoothed mean EPI', cut_coords=cut_coords)"
      ], 
      "outputs": [], 
      "metadata": {
        "collapsed": false
      }
    }, 
    {
      "source": [
        "Run a T-test for face and houses\n"
      ], 
      "cell_type": "markdown", 
      "metadata": {}
    }, 
    {
      "execution_count": null, 
      "cell_type": "code", 
      "source": [
        "from scipy import stats\nfmri_data = fmri_img.get_data()\n_, p_values = stats.ttest_ind(fmri_data[..., haxby_labels == b'face'],\n                              fmri_data[..., haxby_labels == b'house'],\n                              axis=-1)\n\n# Use a log scale for p-values\nlog_p_values = -np.log10(p_values)\nlog_p_values[np.isnan(log_p_values)] = 0.\nlog_p_values[log_p_values > 10.] = 10.\nfrom nilearn.plotting import plot_stat_map\nplot_stat_map(new_img_like(fmri_img, log_p_values),\n              mean_img, title=\"p-values\", cut_coords=cut_coords)"
      ], 
      "outputs": [], 
      "metadata": {
        "collapsed": false
      }
    }, 
    {
      "source": [
        "Build a mask from this statistical map\n"
      ], 
      "cell_type": "markdown", 
      "metadata": {}
    }, 
    {
      "execution_count": null, 
      "cell_type": "code", 
      "source": [
        "# Thresholding\nlog_p_values[log_p_values < 5] = 0\nplot_stat_map(new_img_like(fmri_img, log_p_values),\n              mean_img, title='Thresholded p-values', annotate=False,\n              colorbar=False, cut_coords=cut_coords)"
      ], 
      "outputs": [], 
      "metadata": {
        "collapsed": false
      }
    }, 
    {
      "source": [
        "Binarization and intersection with VT mask\n(intersection corresponds to an \"AND conjunction\")\n"
      ], 
      "cell_type": "markdown", 
      "metadata": {}
    }, 
    {
      "execution_count": null, 
      "cell_type": "code", 
      "source": [
        "bin_p_values = (log_p_values != 0)\nmask_vt_filename = haxby_dataset.mask_vt[0]\nimport nibabel\nvt = nibabel.load(mask_vt_filename).get_data().astype(bool)\nbin_p_values_and_vt = np.logical_and(bin_p_values, vt)\n\nfrom nilearn.plotting import plot_roi, show\nplot_roi(new_img_like(fmri_img, bin_p_values_and_vt.astype(np.int)),\n         mean_img, title='Intersection with ventral temporal mask',\n         cut_coords=cut_coords)"
      ], 
      "outputs": [], 
      "metadata": {
        "collapsed": false
      }
    }, 
    {
      "source": [
        "Dilation\n"
      ], 
      "cell_type": "markdown", 
      "metadata": {}
    }, 
    {
      "execution_count": null, 
      "cell_type": "code", 
      "source": [
        "from scipy import ndimage\ndil_bin_p_values_and_vt = ndimage.binary_dilation(bin_p_values_and_vt)\nplot_roi(new_img_like(fmri_img, dil_bin_p_values_and_vt.astype(np.int)),\n         mean_img, title='Dilated mask', cut_coords=cut_coords,\n         annotate=False)"
      ], 
      "outputs": [], 
      "metadata": {
        "collapsed": false
      }
    }, 
    {
      "source": [
        "Identification of connected components\n"
      ], 
      "cell_type": "markdown", 
      "metadata": {}
    }, 
    {
      "execution_count": null, 
      "cell_type": "code", 
      "source": [
        "labels, n_labels = ndimage.label(dil_bin_p_values_and_vt)\nfirst_roi_data = (labels == 1).astype(np.int)\nsecond_roi_data = (labels == 2).astype(np.int)\nplot_roi(new_img_like(fmri_img, first_roi_data),\n         mean_img, title='Connected components: first ROI')\n\nplot_roi(new_img_like(fmri_img, second_roi_data),\n         mean_img, title='Connected components: second ROI')"
      ], 
      "outputs": [], 
      "metadata": {
        "collapsed": false
      }
    }, 
    {
      "source": [
        "Use the new ROIs to extract data maps in both ROIs\n"
      ], 
      "cell_type": "markdown", 
      "metadata": {}
    }, 
    {
      "execution_count": null, 
      "cell_type": "code", 
      "source": [
        "masker = NiftiLabelsMasker(\n    labels_img=new_img_like(fmri_img, labels),\n    resampling_target=None,\n    standardize=False,\n    detrend=False)\nmasker.fit()\ncondition_names = list(set(haxby_labels))\nn_cond_img = fmri_data[..., haxby_labels == b'house'].shape[-1]\nn_conds = len(condition_names)\n\nX1, X2 = np.zeros((n_cond_img, n_conds)), np.zeros((n_cond_img, n_conds))\nfor i, cond in enumerate(condition_names):\n    cond_maps = new_img_like(\n        fmri_img, fmri_data[..., haxby_labels == cond][..., :n_cond_img])\n    mask_data = masker.transform(cond_maps)\n    X1[:, i], X2[:, i] = mask_data[:, 0], mask_data[:, 1]\ncondition_names[condition_names.index(b'scrambledpix')] = b'scrambled'"
      ], 
      "outputs": [], 
      "metadata": {
        "collapsed": false
      }
    }, 
    {
      "source": [
        "Plot the average in the different condition names\n"
      ], 
      "cell_type": "markdown", 
      "metadata": {}
    }, 
    {
      "execution_count": null, 
      "cell_type": "code", 
      "source": [
        "plt.figure(figsize=(15, 7))\nfor i in np.arange(2):\n    plt.subplot(1, 2, i + 1)\n    plt.boxplot(X1 if i == 0 else X2)\n    plt.xticks(np.arange(len(condition_names)) + 1, condition_names,\n               rotation=25)\n    plt.title('Boxplots of data in ROI%i per condition' % (i + 1))\n\nshow()\n\n# save the ROI 'atlas' to a single output Nifti\nnibabel.save(new_img_like(fmri_img, labels),\n             'mask_atlas.nii')"
      ], 
      "outputs": [], 
      "metadata": {
        "collapsed": false
      }
    }
  ], 
  "metadata": {
    "kernelspec": {
      "display_name": "Python 2", 
      "name": "python2", 
      "language": "python"
    }, 
    "language_info": {
      "mimetype": "text/x-python", 
      "nbconvert_exporter": "python", 
      "name": "python", 
      "file_extension": ".py", 
      "version": "2.7.10", 
      "pygments_lexer": "ipython2", 
      "codemirror_mode": {
        "version": 2, 
        "name": "ipython"
      }
    }
  }
}