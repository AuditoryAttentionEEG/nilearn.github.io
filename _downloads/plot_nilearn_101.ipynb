{
  "nbformat_minor": 0, 
  "nbformat": 4, 
  "cells": [
    {
      "execution_count": null, 
      "cell_type": "code", 
      "source": [
        "%matplotlib inline"
      ], 
      "outputs": [], 
      "metadata": {
        "collapsed": false
      }
    }, 
    {
      "source": [
        "\nBasic nilearn example\n=====================\n\nA simple example showing how to load an existing Nifti file and use\nbasic nilearn functionalities.\n"
      ], 
      "cell_type": "markdown", 
      "metadata": {}
    }, 
    {
      "execution_count": null, 
      "cell_type": "code", 
      "source": [
        "# Import the os module, for file manipulation\nimport os"
      ], 
      "outputs": [], 
      "metadata": {
        "collapsed": false
      }
    }, 
    {
      "source": [
        "Let us use a Nifti file that is shipped with nilearn\n"
      ], 
      "cell_type": "markdown", 
      "metadata": {}
    }, 
    {
      "execution_count": null, 
      "cell_type": "code", 
      "source": [
        "from nilearn.datasets import data\n\nanat_filename = os.path.join(os.path.dirname(data.__file__),\n                             'avg152T1_brain.nii.gz')\nprint('anat_filename: %s' % anat_filename)"
      ], 
      "outputs": [], 
      "metadata": {
        "collapsed": false
      }
    }, 
    {
      "source": [
        "Using simple function from nilearn for image manipulation\n"
      ], 
      "cell_type": "markdown", 
      "metadata": {}
    }, 
    {
      "execution_count": null, 
      "cell_type": "code", 
      "source": [
        "from nilearn import image\n\n# functions containing 'img' can take either a filename or an image as input.\n# Inputs here are given as: image filename and smoothing value in mm\nsmooth_anat_img = image.smooth_img(anat_filename, 3)\n\n# While we are giving a file name as input, the object that is returned\n# is a 'nibabel' object. It has data, and an affine stored in object.\nanat_data = smooth_anat_img.get_data()\nprint('anat_data has shape: %s' % str(anat_data.shape))\nanat_affine = smooth_anat_img.get_affine()\nprint('anat_affine has affine:\\n%s' % anat_affine)\n\n# Finally, object can also be passed to nilearn function\n# First input now is a image/object with same smoothing value\nsmooth_anat_img = image.smooth_img(smooth_anat_img, 3)"
      ], 
      "outputs": [], 
      "metadata": {
        "collapsed": false
      }
    }, 
    {
      "source": [
        "Visualization using plotting tool `plot_anat` from nilearn\n"
      ], 
      "cell_type": "markdown", 
      "metadata": {}
    }, 
    {
      "execution_count": null, 
      "cell_type": "code", 
      "source": [
        "from nilearn import plotting\n\n# positioning of the image coordinates given as a list [x, y, z]\ncut_coords = [0, 0, 0]\n\n# Like all functions in nilearn, plotting can be given filenames\nplotting.plot_anat(anat_filename, cut_coords=cut_coords,\n                   title='Anatomy image')\n\n# Or nibabel objects\nplotting.plot_anat(smooth_anat_img,\n                   cut_coords=cut_coords,\n                   title='Smoothed anatomy image')"
      ], 
      "outputs": [], 
      "metadata": {
        "collapsed": false
      }
    }, 
    {
      "source": [
        "Saving smoothed image to file\n"
      ], 
      "cell_type": "markdown", 
      "metadata": {}
    }, 
    {
      "execution_count": null, 
      "cell_type": "code", 
      "source": [
        "smooth_anat_img.to_filename('smooth_anat_img.nii.gz')"
      ], 
      "outputs": [], 
      "metadata": {
        "collapsed": false
      }
    }, 
    {
      "source": [
        "Finally, showing plots when used inside a terminal\n"
      ], 
      "cell_type": "markdown", 
      "metadata": {}
    }, 
    {
      "execution_count": null, 
      "cell_type": "code", 
      "source": [
        "plotting.show()"
      ], 
      "outputs": [], 
      "metadata": {
        "collapsed": false
      }
    }
  ], 
  "metadata": {
    "kernelspec": {
      "display_name": "Python 2", 
      "name": "python2", 
      "language": "python"
    }, 
    "language_info": {
      "mimetype": "text/x-python", 
      "nbconvert_exporter": "python", 
      "name": "python", 
      "file_extension": ".py", 
      "version": "2.7.10", 
      "pygments_lexer": "ipython2", 
      "codemirror_mode": {
        "version": 2, 
        "name": "ipython"
      }
    }
  }
}