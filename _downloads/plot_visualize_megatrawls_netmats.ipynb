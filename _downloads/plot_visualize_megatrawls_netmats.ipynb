{
  "metadata": {
    "kernelspec": {
      "language": "python",
      "name": "python3",
      "display_name": "Python 3"
    },
    "language_info": {
      "codemirror_mode": {
        "version": 3,
        "name": "ipython"
      },
      "pygments_lexer": "ipython3",
      "mimetype": "text/x-python",
      "name": "python",
      "version": "3.5.6",
      "file_extension": ".py",
      "nbconvert_exporter": "python"
    }
  },
  "nbformat": 4,
  "nbformat_minor": 0,
  "cells": [
    {
      "metadata": {
        "collapsed": false
      },
      "source": [
        "%matplotlib inline"
      ],
      "outputs": [],
      "execution_count": null,
      "cell_type": "code"
    },
    {
      "metadata": {},
      "source": [
        "\nVisualizing Megatrawls Network Matrices from Human Connectome Project\n=====================================================================\n\nThis example shows how to fetch network matrices data from HCP beta-release\nof the Functional Connectivity Megatrawl project.\n\nSee :func:`nilearn.datasets.fetch_megatrawls_netmats` documentation for more details.\n\n"
      ],
      "cell_type": "markdown"
    },
    {
      "metadata": {},
      "source": [
        "Fetching the Megatrawls Network matrices\n----------------------------------------\nFetching the partial correlation matrices of dimensionality d=300 with\ntimeseries method 'eigen regression'\n\n"
      ],
      "cell_type": "markdown"
    },
    {
      "metadata": {
        "collapsed": false
      },
      "source": [
        "from nilearn import datasets\n\nnetmats = datasets.fetch_megatrawls_netmats(dimensionality=300,\n                                            timeseries='eigen_regression',\n                                            matrices='partial_correlation')\n# Partial correlation matrices array of size (300, 300) are stored in the name\n# of 'correlation_matrices'\npartial_correlation = netmats.correlation_matrices"
      ],
      "outputs": [],
      "execution_count": null,
      "cell_type": "code"
    },
    {
      "metadata": {},
      "source": [
        "Visualization\n-------------\nImport nilearn plotting modules to use its utilities for plotting\ncorrelation matrices\n\n"
      ],
      "cell_type": "markdown"
    },
    {
      "metadata": {
        "collapsed": false
      },
      "source": [
        "from nilearn import plotting\n\ntitle = \"Partial correlation matrices\\n for d=300\"\ndisplay = plotting.plot_matrix(partial_correlation, colorbar=True,\n                               title=title)\nplotting.show()"
      ],
      "outputs": [],
      "execution_count": null,
      "cell_type": "code"
    }
  ]
}