{
  "nbformat_minor": 0, 
  "nbformat": 4, 
  "cells": [
    {
      "execution_count": null, 
      "cell_type": "code", 
      "source": [
        "%matplotlib inline"
      ], 
      "outputs": [], 
      "metadata": {
        "collapsed": false
      }
    }, 
    {
      "source": [
        "\nMatplotlib colormaps in Nilearn\n================================\n\nVisualize HCP connectome workbench color maps shipped with Nilearn\nwhich can be used for plotting brain images on surface.\n\nSee `surface-plotting` for surface plotting details.\n\n"
      ], 
      "cell_type": "markdown", 
      "metadata": {}
    }, 
    {
      "execution_count": null, 
      "cell_type": "code", 
      "source": [
        "import numpy as np\nimport matplotlib.pyplot as plt\n\nfrom nilearn.plotting.cm import _cmap_d as nilearn_cmaps\nfrom nilearn.plotting import show"
      ], 
      "outputs": [], 
      "metadata": {
        "collapsed": false
      }
    }, 
    {
      "source": [
        "Plot color maps\n----------------\n\n"
      ], 
      "cell_type": "markdown", 
      "metadata": {}
    }, 
    {
      "execution_count": null, 
      "cell_type": "code", 
      "source": [
        "nmaps = len(nilearn_cmaps)\na = np.outer(np.arange(0, 1, 0.01), np.ones(10))\n\n# Initialize the figure\nplt.figure(figsize=(10, 4.2))\nplt.subplots_adjust(top=0.4, bottom=0.05, left=0.01, right=0.99)\n\nfor index, cmap in enumerate(nilearn_cmaps):\n    plt.subplot(1, nmaps + 1, index + 1)\n    plt.imshow(a, cmap=nilearn_cmaps[cmap])\n    plt.axis('off')\n    plt.title(cmap, fontsize=10, va='bottom', rotation=90)"
      ], 
      "outputs": [], 
      "metadata": {
        "collapsed": false
      }
    }, 
    {
      "source": [
        "Plot matplotlib color maps\n--------------------------\n\n"
      ], 
      "cell_type": "markdown", 
      "metadata": {}
    }, 
    {
      "execution_count": null, 
      "cell_type": "code", 
      "source": [
        "plt.figure(figsize=(10, 5))\nplt.subplots_adjust(top=0.8, bottom=0.05, left=0.01, right=0.99)\ndeprecated_cmaps = ['Vega10', 'Vega20', 'Vega20b', 'Vega20c', 'spectral']\nm_cmaps = []\nfor m in plt.cm.datad:\n    if not m.endswith(\"_r\") and m not in deprecated_cmaps:\n        m_cmaps.append(m)\nm_cmaps.sort()\n\nfor index, cmap in enumerate(m_cmaps):\n    plt.subplot(1, len(m_cmaps) + 1, index + 1)\n    plt.imshow(a, cmap=plt.get_cmap(cmap), aspect='auto')\n    plt.axis('off')\n    plt.title(cmap, fontsize=10, va='bottom', rotation=90)\n\nshow()"
      ], 
      "outputs": [], 
      "metadata": {
        "collapsed": false
      }
    }
  ], 
  "metadata": {
    "kernelspec": {
      "display_name": "Python 2", 
      "name": "python2", 
      "language": "python"
    }, 
    "language_info": {
      "mimetype": "text/x-python", 
      "nbconvert_exporter": "python", 
      "name": "python", 
      "file_extension": ".py", 
      "version": "2.7.15", 
      "pygments_lexer": "ipython2", 
      "codemirror_mode": {
        "version": 2, 
        "name": "ipython"
      }
    }
  }
}