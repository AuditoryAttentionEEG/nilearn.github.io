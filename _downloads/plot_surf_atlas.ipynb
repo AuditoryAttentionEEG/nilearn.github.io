{
  "nbformat_minor": 0, 
  "nbformat": 4, 
  "cells": [
    {
      "execution_count": null, 
      "cell_type": "code", 
      "source": [
        "%matplotlib inline"
      ], 
      "outputs": [], 
      "metadata": {
        "collapsed": false
      }
    }, 
    {
      "source": [
        "\nLoading and plotting of a cortical surface atlas\n=================================================\n\nThe Destrieux parcellation (Destrieux et al, 2010) in fsaverage5 space as\ndistributed with Freesurfer is used as the chosen atlas.\n\nThe :func:`nilearn.plotting.plot_surf_roi` function is used\nto plot the parcellation on the pial surface.\n\nSee `plotting` for more details.\n\nReferences\n----------\n\nDestrieux et al, (2010). Automatic parcellation of human cortical gyri and\nsulci using standard anatomical nomenclature. NeuroImage, 53, 1.\nURL http://dx.doi.org/10.1016/j.neuroimage.2010.06.010.\n\n"
      ], 
      "cell_type": "markdown", 
      "metadata": {}
    }, 
    {
      "source": [
        "Data fetcher\n------------\n\n"
      ], 
      "cell_type": "markdown", 
      "metadata": {}
    }, 
    {
      "execution_count": null, 
      "cell_type": "code", 
      "source": [
        "# Retrieve destrieux parcellation in fsaverage5 space from nilearn\nfrom nilearn import datasets\n\ndestrieux_atlas = datasets.fetch_atlas_surf_destrieux()\n\n# The parcellation is already loaded into memory\nparcellation = destrieux_atlas['map_left']\n\n# Retrieve fsaverage5 surface dataset for the plotting background. It contains\n# the surface template as pial and inflated version and a sulcal depth maps\n# which is used for shading\nfsaverage = datasets.fetch_surf_fsaverage()\n\n# The fsaverage dataset contains file names pointing to the file locations\nprint('Fsaverage5 pial surface of left hemisphere is at: %s' %\n      fsaverage['pial_left'])\nprint('Fsaverage5 inflated surface of left hemisphere is at: %s' %\n      fsaverage['infl_left'])\nprint('Fsaverage5 sulcal depth map of left hemisphere is at: %s' %\n      fsaverage['sulc_left'])"
      ], 
      "outputs": [], 
      "metadata": {
        "collapsed": false
      }
    }, 
    {
      "source": [
        "Visualization\n-------------\n\n"
      ], 
      "cell_type": "markdown", 
      "metadata": {}
    }, 
    {
      "execution_count": null, 
      "cell_type": "code", 
      "source": [
        "# Display Destrieux parcellation on fsaverage5 pial surface using nilearn\nfrom nilearn import plotting\n\nplotting.plot_surf_roi(fsaverage['pial_left'], roi_map=parcellation,\n                       hemi='left', view='lateral',\n                       bg_map=fsaverage['sulc_left'], bg_on_data=True,\n                       darkness=.5)"
      ], 
      "outputs": [], 
      "metadata": {
        "collapsed": false
      }
    }, 
    {
      "source": [
        "Display Destrieux parcellation on inflated fsaverage5 surface\n\n"
      ], 
      "cell_type": "markdown", 
      "metadata": {}
    }, 
    {
      "execution_count": null, 
      "cell_type": "code", 
      "source": [
        "plotting.plot_surf_roi(fsaverage['infl_left'], roi_map=parcellation,\n                       hemi='left', view='lateral',\n                       bg_map=fsaverage['sulc_left'], bg_on_data=True,\n                       darkness=.5)"
      ], 
      "outputs": [], 
      "metadata": {
        "collapsed": false
      }
    }, 
    {
      "source": [
        "Display Destrieux parcellation with different views: posterior\n\n"
      ], 
      "cell_type": "markdown", 
      "metadata": {}
    }, 
    {
      "execution_count": null, 
      "cell_type": "code", 
      "source": [
        "plotting.plot_surf_roi(fsaverage['infl_left'], roi_map=parcellation,\n                       hemi='left', view='posterior',\n                       bg_map=fsaverage['sulc_left'], bg_on_data=True,\n                       darkness=.5)"
      ], 
      "outputs": [], 
      "metadata": {
        "collapsed": false
      }
    }, 
    {
      "source": [
        "Display Destrieux parcellation with different views: ventral\n\n"
      ], 
      "cell_type": "markdown", 
      "metadata": {}
    }, 
    {
      "execution_count": null, 
      "cell_type": "code", 
      "source": [
        "plotting.plot_surf_roi(fsaverage['infl_left'], roi_map=parcellation,\n                       hemi='left', view='ventral',\n                       bg_map=fsaverage['sulc_left'], bg_on_data=True,\n                       darkness=.5)\nplotting.show()"
      ], 
      "outputs": [], 
      "metadata": {
        "collapsed": false
      }
    }, 
    {
      "source": [
        "3D visualization in a web browser\n---------------------------------\nAn alternative to :func:`nilearn.plotting.plot_surf_roi` is to use\n:func:`nilearn.plotting.view_surf` for more interactive\nvisualizations in a web browser. See `interactive-surface-plotting` for\nmore details.\n\n"
      ], 
      "cell_type": "markdown", 
      "metadata": {}
    }, 
    {
      "execution_count": null, 
      "cell_type": "code", 
      "source": [
        "view = plotting.view_surf(fsaverage.infl_left, parcellation,\n                          cmap='gist_ncar', symmetric_cmap=False)\n# uncomment this to open the plot in a web browser:\n# view.open_in_browser()"
      ], 
      "outputs": [], 
      "metadata": {
        "collapsed": false
      }
    }, 
    {
      "source": [
        "In a Jupyter notebook, if ``view`` is the output of a cell, it will\nbe displayed below the cell\n\n"
      ], 
      "cell_type": "markdown", 
      "metadata": {}
    }, 
    {
      "execution_count": null, 
      "cell_type": "code", 
      "source": [
        "view"
      ], 
      "outputs": [], 
      "metadata": {
        "collapsed": false
      }
    }
  ], 
  "metadata": {
    "kernelspec": {
      "display_name": "Python 2", 
      "name": "python2", 
      "language": "python"
    }, 
    "language_info": {
      "mimetype": "text/x-python", 
      "nbconvert_exporter": "python", 
      "name": "python", 
      "file_extension": ".py", 
      "version": "2.7.15", 
      "pygments_lexer": "ipython2", 
      "codemirror_mode": {
        "version": 2, 
        "name": "ipython"
      }
    }
  }
}