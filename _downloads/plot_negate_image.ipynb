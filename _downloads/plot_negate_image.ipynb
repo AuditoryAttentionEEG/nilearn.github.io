{
  "metadata": {
    "kernelspec": {
      "language": "python",
      "name": "python3",
      "display_name": "Python 3"
    },
    "language_info": {
      "codemirror_mode": {
        "version": 3,
        "name": "ipython"
      },
      "pygments_lexer": "ipython3",
      "mimetype": "text/x-python",
      "name": "python",
      "version": "3.5.6",
      "file_extension": ".py",
      "nbconvert_exporter": "python"
    }
  },
  "nbformat": 4,
  "nbformat_minor": 0,
  "cells": [
    {
      "metadata": {
        "collapsed": false
      },
      "source": [
        "%matplotlib inline"
      ],
      "outputs": [],
      "execution_count": null,
      "cell_type": "code"
    },
    {
      "metadata": {},
      "source": [
        "\nNegating an image with math_img\n===============================\n\nThe goal of this example is to illustrate the use of the function\n:func:`nilearn.image.math_img` on T-maps.\nWe compute a negative image by multiplying its voxel values with -1.\n\n"
      ],
      "cell_type": "markdown"
    },
    {
      "metadata": {
        "collapsed": false
      },
      "source": [
        "from nilearn import datasets, plotting, image"
      ],
      "outputs": [],
      "execution_count": null,
      "cell_type": "code"
    },
    {
      "metadata": {},
      "source": [
        "Retrieve the data: the localizer dataset with contrast maps.\n\n"
      ],
      "cell_type": "markdown"
    },
    {
      "metadata": {
        "collapsed": false
      },
      "source": [
        "motor_images = datasets.fetch_neurovault_motor_task()\nstat_img = motor_images.images[0]"
      ],
      "outputs": [],
      "execution_count": null,
      "cell_type": "code"
    },
    {
      "metadata": {},
      "source": [
        "Multiply voxel values by -1.\n\n"
      ],
      "cell_type": "markdown"
    },
    {
      "metadata": {
        "collapsed": false
      },
      "source": [
        "negative_stat_img = image.math_img(\"-img\", img=stat_img)\n\nplotting.plot_stat_map(stat_img,\n                       cut_coords=(36, -27, 66),\n                       threshold=3, title=\"t-map\", vmax=9\n)\nplotting.plot_stat_map(negative_stat_img,\n                       cut_coords=(36, -27, 66),\n                       threshold=3, title=\"Negative t-map\", vmax=9\n)\nplotting.show()"
      ],
      "outputs": [],
      "execution_count": null,
      "cell_type": "code"
    }
  ]
}