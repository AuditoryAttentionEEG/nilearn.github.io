{
  "nbformat_minor": 0, 
  "nbformat": 4, 
  "cells": [
    {
      "execution_count": null, 
      "cell_type": "code", 
      "source": [
        "%matplotlib inline"
      ], 
      "outputs": [], 
      "metadata": {
        "collapsed": false
      }
    }, 
    {
      "source": [
        "\nNegating an image with math_img\n===============================\n\nThe goal of this example is to illustrate the use of the function\n:func:`nilearn.image.math_img` on T-maps.\nWe compute a negative image by multiplying its voxel values with -1.\n\n"
      ], 
      "cell_type": "markdown", 
      "metadata": {}
    }, 
    {
      "execution_count": null, 
      "cell_type": "code", 
      "source": [
        "from nilearn import datasets, plotting, image"
      ], 
      "outputs": [], 
      "metadata": {
        "collapsed": false
      }
    }, 
    {
      "source": [
        "Retrieve the data: the localizer dataset with contrast maps.\n\n"
      ], 
      "cell_type": "markdown", 
      "metadata": {}
    }, 
    {
      "execution_count": null, 
      "cell_type": "code", 
      "source": [
        "motor_images = datasets.fetch_neurovault_motor_task()\nstat_img = motor_images.images[0]"
      ], 
      "outputs": [], 
      "metadata": {
        "collapsed": false
      }
    }, 
    {
      "source": [
        "Multiply voxel values by -1.\n\n"
      ], 
      "cell_type": "markdown", 
      "metadata": {}
    }, 
    {
      "execution_count": null, 
      "cell_type": "code", 
      "source": [
        "negative_stat_img = image.math_img(\"-img\", img=stat_img)\n\nplotting.plot_stat_map(stat_img,\n                       cut_coords=(36, -27, 66),\n                       threshold=3, title=\"t-map\", vmax=9\n)\nplotting.plot_stat_map(negative_stat_img,\n                       cut_coords=(36, -27, 66),\n                       threshold=3, title=\"Negative t-map\", vmax=9\n)\nplotting.show()"
      ], 
      "outputs": [], 
      "metadata": {
        "collapsed": false
      }
    }
  ], 
  "metadata": {
    "kernelspec": {
      "display_name": "Python 2", 
      "name": "python2", 
      "language": "python"
    }, 
    "language_info": {
      "mimetype": "text/x-python", 
      "nbconvert_exporter": "python", 
      "name": "python", 
      "file_extension": ".py", 
      "version": "2.7.15", 
      "pygments_lexer": "ipython2", 
      "codemirror_mode": {
        "version": 2, 
        "name": "ipython"
      }
    }
  }
}