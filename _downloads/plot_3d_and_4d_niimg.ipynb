{
  "metadata": {
    "kernelspec": {
      "language": "python",
      "name": "python3",
      "display_name": "Python 3"
    },
    "language_info": {
      "codemirror_mode": {
        "version": 3,
        "name": "ipython"
      },
      "pygments_lexer": "ipython3",
      "mimetype": "text/x-python",
      "name": "python",
      "version": "3.5.6",
      "file_extension": ".py",
      "nbconvert_exporter": "python"
    }
  },
  "nbformat": 4,
  "nbformat_minor": 0,
  "cells": [
    {
      "metadata": {
        "collapsed": false
      },
      "source": [
        "%matplotlib inline"
      ],
      "outputs": [],
      "execution_count": null,
      "cell_type": "code"
    },
    {
      "metadata": {},
      "source": [
        "\n3D and 4D niimgs: handling and visualizing\n==========================================\n\nHere we discover how to work with 3D and 4D niimgs.\n\n"
      ],
      "cell_type": "markdown"
    },
    {
      "metadata": {},
      "source": [
        "Downloading tutorial datasets from Internet\n--------------------------------------------\n\nNilearn comes with functions that download public data from Internet\n\nLet's first check where the data is downloaded on our disk:\n\n"
      ],
      "cell_type": "markdown"
    },
    {
      "metadata": {
        "collapsed": false
      },
      "source": [
        "from nilearn import datasets\nprint('Datasets are stored in: %r' % datasets.get_data_dirs())"
      ],
      "outputs": [],
      "execution_count": null,
      "cell_type": "code"
    },
    {
      "metadata": {},
      "source": [
        "Let's now retrieve a motor contrast from a Neurovault repository\n\n"
      ],
      "cell_type": "markdown"
    },
    {
      "metadata": {
        "collapsed": false
      },
      "source": [
        "motor_images = datasets.fetch_neurovault_motor_task()\nprint(motor_images.images)"
      ],
      "outputs": [],
      "execution_count": null,
      "cell_type": "code"
    },
    {
      "metadata": {},
      "source": [
        "motor_images is a list of filenames. We need to take the first one\n\n"
      ],
      "cell_type": "markdown"
    },
    {
      "metadata": {
        "collapsed": false
      },
      "source": [
        "tmap_filename = motor_images.images[0]"
      ],
      "outputs": [],
      "execution_count": null,
      "cell_type": "code"
    },
    {
      "metadata": {},
      "source": [
        "Visualizing a 3D file\n----------------------\n\nThe file contains a 3D volume, we can easily visualize it as a\nstatistical map:\n\n"
      ],
      "cell_type": "markdown"
    },
    {
      "metadata": {
        "collapsed": false
      },
      "source": [
        "from nilearn import plotting\nplotting.plot_stat_map(tmap_filename)"
      ],
      "outputs": [],
      "execution_count": null,
      "cell_type": "code"
    },
    {
      "metadata": {},
      "source": [
        "Visualizing works better with a threshold\n\n"
      ],
      "cell_type": "markdown"
    },
    {
      "metadata": {
        "collapsed": false
      },
      "source": [
        "plotting.plot_stat_map(tmap_filename, threshold=3)"
      ],
      "outputs": [],
      "execution_count": null,
      "cell_type": "code"
    },
    {
      "metadata": {},
      "source": [
        "Visualizing one volume in a 4D file\n-----------------------------------\n\nWe can download resting-state networks from the Smith 2009 study on\ncorrespondance between rest and task\n\n"
      ],
      "cell_type": "markdown"
    },
    {
      "metadata": {
        "collapsed": false
      },
      "source": [
        "rsn = datasets.fetch_atlas_smith_2009()['rsn10']\nprint(rsn)"
      ],
      "outputs": [],
      "execution_count": null,
      "cell_type": "code"
    },
    {
      "metadata": {},
      "source": [
        "It is a 4D nifti file. We load it into the memory to print its\nshape.\n\n"
      ],
      "cell_type": "markdown"
    },
    {
      "metadata": {
        "collapsed": false
      },
      "source": [
        "from nilearn import image\nprint(image.load_img(rsn).shape)"
      ],
      "outputs": [],
      "execution_count": null,
      "cell_type": "code"
    },
    {
      "metadata": {},
      "source": [
        "We can retrieve the first volume (note that Python indexing starts at 0):\n\n"
      ],
      "cell_type": "markdown"
    },
    {
      "metadata": {
        "collapsed": false
      },
      "source": [
        "first_rsn = image.index_img(rsn, 0)\nprint(first_rsn.shape)"
      ],
      "outputs": [],
      "execution_count": null,
      "cell_type": "code"
    },
    {
      "metadata": {},
      "source": [
        "first_rsn is a 3D image.\n\nWe can then plot it\n\n"
      ],
      "cell_type": "markdown"
    },
    {
      "metadata": {
        "collapsed": false
      },
      "source": [
        "plotting.plot_stat_map(first_rsn)"
      ],
      "outputs": [],
      "execution_count": null,
      "cell_type": "code"
    },
    {
      "metadata": {},
      "source": [
        "Looping on all volumes in a 4D file\n-----------------------------------\n\nIf we want to plot all the volumes in this 4D file, we can use iter_img\nto loop on them.\n\nThen we give a few arguments to plot_stat_map in order to have a more\ncompact display.\n\n"
      ],
      "cell_type": "markdown"
    },
    {
      "metadata": {
        "collapsed": false
      },
      "source": [
        "for img in image.iter_img(rsn):\n    # img is now an in-memory 3D img\n    plotting.plot_stat_map(img, threshold=3, display_mode=\"z\", cut_coords=1,\n                           colorbar=False)"
      ],
      "outputs": [],
      "execution_count": null,
      "cell_type": "code"
    },
    {
      "metadata": {},
      "source": [
        "plotting.show is useful to force the display of figures when running\noutside IPython\n\n"
      ],
      "cell_type": "markdown"
    },
    {
      "metadata": {
        "collapsed": false
      },
      "source": [
        "plotting.show()"
      ],
      "outputs": [],
      "execution_count": null,
      "cell_type": "code"
    },
    {
      "metadata": {},
      "source": [
        "|\n\n______\n\nTo recap, neuroimaging images (niimgs as we call them) come in\ndifferent flavors:\n\n* 3D images, containing only one brain volume\n* 4D images, containing multiple brain volumes.\n\nMore details about the input formats in nilearn for 3D and 4D images is\ngiven in the documentation section: `loading_data`.\n\nFunctions accept either 3D or 4D images, and we need to use on the one\nhand :func:`nilearn.image.index_img` or :func:`nilearn.image.iter_img`\nto break down 4D images into 3D images, and on the other hand\n:func:`nilearn.image.concat_imgs` to group a list of 3D images into a 4D\nimage.\n\n"
      ],
      "cell_type": "markdown"
    }
  ]
}