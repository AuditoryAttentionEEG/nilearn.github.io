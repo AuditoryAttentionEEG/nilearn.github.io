{
  "nbformat_minor": 0, 
  "nbformat": 4, 
  "cells": [
    {
      "execution_count": null, 
      "cell_type": "code", 
      "source": [
        "%matplotlib inline"
      ], 
      "outputs": [], 
      "metadata": {
        "collapsed": false
      }
    }, 
    {
      "source": [
        "\nGlass brain plotting in nilearn (all options)\n=============================================\n\nFirst part of this example goes through different options of the\n:func:`nilearn.plotting.plot_glass_brain` function (including plotting\nnegative values).\n\nSecond part, goes through same options but selected of the same glass brain\nfunction but plotting is seen with contours.\n\nSee `plotting` for more plotting functionalities and\n`Section 4.3 <display_modules>` for more details about display objects\nin Nilearn.\n\nAlso, see :func:`nilearn.datasets.fetch_localizer_button_task` for details\nabout the plotting data and its experiments.\n\n"
      ], 
      "cell_type": "markdown", 
      "metadata": {}
    }, 
    {
      "source": [
        "Retrieve the data\n------------------\n\nNilearn comes with set of functions that download public data from Internet\n\nLet us first see where the data will be downloded and stored on our disk:\n\n\n"
      ], 
      "cell_type": "markdown", 
      "metadata": {}
    }, 
    {
      "execution_count": null, 
      "cell_type": "code", 
      "source": [
        "from nilearn import datasets\nprint('Datasets shipped with nilearn are stored in: %r' % datasets.get_data_dirs())"
      ], 
      "outputs": [], 
      "metadata": {
        "collapsed": false
      }
    }, 
    {
      "source": [
        "Let us now retrieve a motor task contrast maps corresponding to second subject\nfrom a localizer experiment\n\n"
      ], 
      "cell_type": "markdown", 
      "metadata": {}
    }, 
    {
      "execution_count": null, 
      "cell_type": "code", 
      "source": [
        "tmap_filenames = datasets.fetch_localizer_button_task()['tmaps']\nprint(tmap_filenames)"
      ], 
      "outputs": [], 
      "metadata": {
        "collapsed": false
      }
    }, 
    {
      "source": [
        "tmap_filenames is returned as a list. We need to take first one\n\n"
      ], 
      "cell_type": "markdown", 
      "metadata": {}
    }, 
    {
      "execution_count": null, 
      "cell_type": "code", 
      "source": [
        "tmap_filename = tmap_filenames[0]"
      ], 
      "outputs": [], 
      "metadata": {
        "collapsed": false
      }
    }, 
    {
      "source": [
        "Demo glass brain plotting\n--------------------------\n\n"
      ], 
      "cell_type": "markdown", 
      "metadata": {}
    }, 
    {
      "execution_count": null, 
      "cell_type": "code", 
      "source": [
        "from nilearn import plotting\n\n# Whole brain sagittal cuts and map is thresholded at 3\nplotting.plot_glass_brain(tmap_filename, threshold=3)"
      ], 
      "outputs": [], 
      "metadata": {
        "collapsed": false
      }
    }, 
    {
      "source": [
        "With a colorbar\n\n"
      ], 
      "cell_type": "markdown", 
      "metadata": {}
    }, 
    {
      "execution_count": null, 
      "cell_type": "code", 
      "source": [
        "plotting.plot_glass_brain(tmap_filename, threshold=3, colorbar=True)"
      ], 
      "outputs": [], 
      "metadata": {
        "collapsed": false
      }
    }, 
    {
      "source": [
        "Black background, and only the (x, z) cuts\n\n"
      ], 
      "cell_type": "markdown", 
      "metadata": {}
    }, 
    {
      "execution_count": null, 
      "cell_type": "code", 
      "source": [
        "plotting.plot_glass_brain(tmap_filename, title='plot_glass_brain',\n                          black_bg=True, display_mode='xz', threshold=3)"
      ], 
      "outputs": [], 
      "metadata": {
        "collapsed": false
      }
    }, 
    {
      "source": [
        "Plotting the sign of the activation with plot_abs to False\n\n"
      ], 
      "cell_type": "markdown", 
      "metadata": {}
    }, 
    {
      "execution_count": null, 
      "cell_type": "code", 
      "source": [
        "plotting.plot_glass_brain(tmap_filename, threshold=0, colorbar=True,\n                          plot_abs=False)"
      ], 
      "outputs": [], 
      "metadata": {
        "collapsed": false
      }
    }, 
    {
      "source": [
        "The sign of the activation and a colorbar\n\n"
      ], 
      "cell_type": "markdown", 
      "metadata": {}
    }, 
    {
      "execution_count": null, 
      "cell_type": "code", 
      "source": [
        "plotting.plot_glass_brain(tmap_filename, threshold=3,\n                          colorbar=True, plot_abs=False)"
      ], 
      "outputs": [], 
      "metadata": {
        "collapsed": false
      }
    }, 
    {
      "source": [
        "Different projections for the left and right hemispheres\n---------------------------------------------------------\n\nHemispheric sagittal cuts\n\n"
      ], 
      "cell_type": "markdown", 
      "metadata": {}
    }, 
    {
      "execution_count": null, 
      "cell_type": "code", 
      "source": [
        "plotting.plot_glass_brain(tmap_filename,\n                          title='plot_glass_brain with display_mode=\"lzr\"',\n                          black_bg=True, display_mode='lzr', threshold=3)"
      ], 
      "outputs": [], 
      "metadata": {
        "collapsed": false
      }
    }, 
    {
      "execution_count": null, 
      "cell_type": "code", 
      "source": [
        "plotting.plot_glass_brain(tmap_filename, threshold=0, colorbar=True,\n                          title='plot_glass_brain with display_mode=\"lyrz\"',\n                          plot_abs=False, display_mode='lyrz')"
      ], 
      "outputs": [], 
      "metadata": {
        "collapsed": false
      }
    }, 
    {
      "source": [
        "Demo glass brain plotting with contours\n----------------------------------------\nTo plot maps with contours, we call the plotting function into variable from\nwhich we can use specific display features which are inherited automatically.\nIn this case, we focus on using add_contours\nFirst, we initialize the plotting function into \"display\" and first\nargument set to None since we want an empty glass brain to plotting the\nstatistical maps with \"add_contours\"\n\n"
      ], 
      "cell_type": "markdown", 
      "metadata": {}
    }, 
    {
      "execution_count": null, 
      "cell_type": "code", 
      "source": [
        "display = plotting.plot_glass_brain(None)\n# Here, we project statistical maps\ndisplay.add_contours(tmap_filename)\n# and a title\ndisplay.title('\"tmap_filename\" on glass brain without threshold')"
      ], 
      "outputs": [], 
      "metadata": {
        "collapsed": false
      }
    }, 
    {
      "source": [
        "With specific level (cut-off) in the statistical map\n\n"
      ], 
      "cell_type": "markdown", 
      "metadata": {}
    }, 
    {
      "execution_count": null, 
      "cell_type": "code", 
      "source": [
        "# Here, we set the threshold using parameter called `levels` with value given\n# in a list and choosing color to Red.\ndisplay = plotting.plot_glass_brain(None)\ndisplay.add_contours(tmap_filename, levels=[3.], colors='r')\ndisplay.title('\"tmap_filename\" on glass brain with threshold')"
      ], 
      "outputs": [], 
      "metadata": {
        "collapsed": false
      }
    }, 
    {
      "source": [
        "Black background\n\n"
      ], 
      "cell_type": "markdown", 
      "metadata": {}
    }, 
    {
      "execution_count": null, 
      "cell_type": "code", 
      "source": [
        "# We can set black background using black_bg=True\ndisplay = plotting.plot_glass_brain(None, black_bg=True)\ndisplay.add_contours(tmap_filename, levels=[3.], colors='g')\ndisplay.title('\"tmap_filename\" on glass brain with black background')"
      ], 
      "outputs": [], 
      "metadata": {
        "collapsed": false
      }
    }, 
    {
      "source": [
        "Display contour projections in both hemispheres\n-------------------------------------------------\n\n"
      ], 
      "cell_type": "markdown", 
      "metadata": {}
    }, 
    {
      "execution_count": null, 
      "cell_type": "code", 
      "source": [
        "# Now, display_mode is chosen as 'lr' for both hemispheric plots\ndisplay = plotting.plot_glass_brain(None, display_mode='lr')\ndisplay.add_contours(tmap_filename, levels=[3.], colors='r')\ndisplay.title('\"tmap_filename\" on glass brain only \"l\" \"r\" hemispheres')"
      ], 
      "outputs": [], 
      "metadata": {
        "collapsed": false
      }
    }, 
    {
      "source": [
        "With positive and negative sign of activations\n\n"
      ], 
      "cell_type": "markdown", 
      "metadata": {}
    }, 
    {
      "execution_count": null, 
      "cell_type": "code", 
      "source": [
        "# By default parameter `plot_abs` is True and sign of activations can done by\n# changing `plot_abs` to False\ndisplay = plotting.plot_glass_brain(None, plot_abs=False, display_mode='lzry')\ndisplay.add_contours(tmap_filename)\ndisplay.title(\"Contours with both sign of activations without threshold\")"
      ], 
      "outputs": [], 
      "metadata": {
        "collapsed": false
      }
    }, 
    {
      "source": [
        "Both sign (positive and negative) of activations with threshold\n\n"
      ], 
      "cell_type": "markdown", 
      "metadata": {}
    }, 
    {
      "execution_count": null, 
      "cell_type": "code", 
      "source": [
        "# positive threshold implies positive value in a list and negative threshold\n# implies negative value (both values are used as cut-off)\ndisplay = plotting.plot_glass_brain(None, plot_abs=False, display_mode='lzry')\n# positive level and negative level and each level with different colors as a\n# list. Additionally, with thick line widths\ndisplay.add_contours(tmap_filename, levels=[-2.8, 3.], colors=['b', 'r'],\n                     linewidths=4.)\ndisplay.title('Contours with both sign of activations with threshold')\n\n# Finally, displaying them\nplotting.show()"
      ], 
      "outputs": [], 
      "metadata": {
        "collapsed": false
      }
    }
  ], 
  "metadata": {
    "kernelspec": {
      "display_name": "Python 2", 
      "name": "python2", 
      "language": "python"
    }, 
    "language_info": {
      "mimetype": "text/x-python", 
      "nbconvert_exporter": "python", 
      "name": "python", 
      "file_extension": ".py", 
      "version": "2.7.6", 
      "pygments_lexer": "ipython2", 
      "codemirror_mode": {
        "version": 2, 
        "name": "ipython"
      }
    }
  }
}